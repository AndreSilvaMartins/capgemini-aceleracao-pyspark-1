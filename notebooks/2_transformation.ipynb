{
 "cells": [
  {
   "cell_type": "code",
   "execution_count": 1,
   "id": "0ef1ddd0",
   "metadata": {},
   "outputs": [
    {
     "name": "stdout",
     "output_type": "stream",
     "text": [
      "Requirement already satisfied: pyspark in c:\\users\\tsaheki\\anaconda3\\lib\\site-packages (3.2.1)\n",
      "Requirement already satisfied: py4j==0.10.9.3 in c:\\users\\tsaheki\\anaconda3\\lib\\site-packages (from pyspark) (0.10.9.3)\n",
      "Requirement already satisfied: findspark in c:\\users\\tsaheki\\anaconda3\\lib\\site-packages (2.0.1)\n"
     ]
    }
   ],
   "source": [
    "!pip install pyspark\n",
    "!pip install findspark"
   ]
  },
  {
   "cell_type": "code",
   "execution_count": 2,
   "id": "253a2284",
   "metadata": {},
   "outputs": [],
   "source": [
    "import findspark\n",
    "findspark.init()"
   ]
  },
  {
   "cell_type": "code",
   "execution_count": 3,
   "id": "400e87b5",
   "metadata": {},
   "outputs": [],
   "source": [
    "from pyspark import SparkContext, SparkConf\n",
    "from pyspark.sql import SparkSession\n",
    "from pyspark.sql import functions as F\n",
    "from pyspark.sql.types import StructType, StructField, StringType, IntegerType, FloatType\n",
    "from datetime import datetime"
   ]
  },
  {
   "cell_type": "code",
   "execution_count": 4,
   "id": "4cd3aaf4",
   "metadata": {},
   "outputs": [],
   "source": [
    "# Criar o contexto do spark\n",
    "sc = SparkContext()\n",
    "\n",
    "# Instancia o criador de sessao do spark\n",
    "spark = (SparkSession.builder\n",
    "                     .master('local[2]')\n",
    "                     .appName('Transformacao')\n",
    "        )"
   ]
  },
  {
   "cell_type": "code",
   "execution_count": 5,
   "id": "f51f2133",
   "metadata": {},
   "outputs": [],
   "source": [
    "schema_airports = StructType([\n",
    "    StructField('faa',  StringType(),  True),\n",
    "    StructField('name', StringType(),  True),\n",
    "    StructField('lat',  FloatType(),   True),\n",
    "    StructField('lon',  FloatType(),   True),\n",
    "    StructField('alt',  IntegerType(), True),\n",
    "    StructField('tz',   IntegerType(), True),\n",
    "    StructField('dst',  StringType(),  True)\n",
    "])\n",
    "\n",
    "schema_planes = StructType([\n",
    "    StructField('tailnum',      StringType(),  True),\n",
    "    StructField('year',         IntegerType(), True),\n",
    "    StructField('type',         StringType(),  True),\n",
    "    StructField('manufacturer', StringType(),  True),\n",
    "    StructField('model',        StringType(),  True),\n",
    "    StructField('engines',      IntegerType(), True),\n",
    "    StructField('seats',        IntegerType(), True),\n",
    "    StructField('speed',        IntegerType(), True),\n",
    "    StructField('engine',       StringType(),  True)\n",
    "])\n",
    "\n",
    "schema_flights = StructType([\n",
    "    StructField('year',      IntegerType(), True),\n",
    "    StructField('month',     IntegerType(), True),\n",
    "    StructField('day',       IntegerType(), True),\n",
    "    StructField('dep_time',  StringType(),  True),\n",
    "    StructField('dep_delay', IntegerType(), True),\n",
    "    StructField('arr_time',  StringType(),  True),\n",
    "    StructField('arr_delay', IntegerType(), True),\n",
    "    StructField('carrier',   StringType(),  True),\n",
    "    StructField('tailnum',   StringType(),  True),\n",
    "    StructField('flight',    StringType(),  True),\n",
    "    StructField('origin',    StringType(),  True),\n",
    "    StructField('dest',      StringType(),  True),\n",
    "    StructField('air_time',  IntegerType(), True),\n",
    "    StructField('distance',  IntegerType(), True),\n",
    "    StructField('hour',      IntegerType(), True),\n",
    "    StructField('minute',    IntegerType(), True),\n",
    "])"
   ]
  },
  {
   "cell_type": "code",
   "execution_count": 6,
   "id": "3f40084e",
   "metadata": {},
   "outputs": [],
   "source": [
    "df_airports = (spark.getOrCreate().read\n",
    "                  .format('csv')\n",
    "                  .option('header', 'true')\n",
    "                  .schema(schema_airports)\n",
    "                  .load('airports.csv'))\n",
    "\n",
    "df_planes = (spark.getOrCreate().read\n",
    "                  .format('csv')\n",
    "                  .option('header', 'true')\n",
    "                  .schema(schema_planes)\n",
    "                  .load('planes.csv'))\n",
    "\n",
    "df_flights = (spark.getOrCreate().read\n",
    "                  .format('csv')\n",
    "                  .option('header', 'true')\n",
    "                  .schema(schema_flights)\n",
    "                  .load('flights.csv'))"
   ]
  },
  {
   "cell_type": "code",
   "execution_count": 7,
   "id": "1ee0a9db",
   "metadata": {},
   "outputs": [],
   "source": [
    "# Criacao das visões temporarias\n",
    "df_airports.createOrReplaceTempView('airports')\n",
    "df_planes.createOrReplaceTempView('planes')\n",
    "df_flights.createOrReplaceTempView('flights')"
   ]
  },
  {
   "cell_type": "code",
   "execution_count": 8,
   "id": "db10c004",
   "metadata": {},
   "outputs": [
    {
     "name": "stdout",
     "output_type": "stream",
     "text": [
      "+---+--------------------+---------+-----------+----+---+---+\n",
      "|faa|                name|      lat|        lon| alt| tz|dst|\n",
      "+---+--------------------+---------+-----------+----+---+---+\n",
      "|04G|   Lansdowne Airport|41.130474|  -80.61958|1044| -5|  A|\n",
      "|06A|Moton Field Munic...| 32.46057|  -85.68003| 264| -5|  A|\n",
      "|06C| Schaumburg Regional| 41.98934|  -88.10124| 801| -6|  A|\n",
      "|06N|     Randall Airport| 41.43191|  -74.39156| 523| -5|  A|\n",
      "|09J|Jekyll Island Air...|31.074472|  -81.42778|  11| -4|  A|\n",
      "|0A9|Elizabethton Muni...|36.371223| -82.173416|1593| -4|  A|\n",
      "|0G6|Williams County A...|41.467304| -84.506775| 730| -5|  A|\n",
      "|0G7|Finger Lakes Regi...|42.883564| -76.781235| 492| -5|  A|\n",
      "|0P2|Shoestring Aviati...|39.794823| -76.647194|1000| -5|  U|\n",
      "|0S9|Jefferson County ...| 48.05381|-122.810646| 108| -8|  A|\n",
      "|0W3|Harford County Ai...|39.566837|   -76.2024| 409| -5|  A|\n",
      "|10C|  Galt Field Airport| 42.40289| -88.375114| 875| -6|  U|\n",
      "|17G|Port Bucyrus-Craw...|40.781555|  -82.97481|1003| -5|  A|\n",
      "|19A|Jackson County Ai...|34.175865|   -83.5616| 951| -4|  U|\n",
      "|1A3|Martin Campbell F...|35.015804|  -84.34683|1789| -4|  A|\n",
      "|1B9| Mansfield Municipal|42.000134|  -71.19677| 122| -5|  A|\n",
      "|1C9|Frazier Lake Airpark|54.013332| -124.76833| 152| -8|  A|\n",
      "|1CS|Clow Internationa...|41.695976| -88.129234| 670| -6|  U|\n",
      "|1G3|  Kent State Airport| 41.15139|  -81.41511|1134| -4|  A|\n",
      "|1OH|     Fortman Airport|40.555325|  -84.38662| 885| -5|  U|\n",
      "+---+--------------------+---------+-----------+----+---+---+\n",
      "only showing top 20 rows\n",
      "\n"
     ]
    }
   ],
   "source": [
    "df_airports.show()"
   ]
  },
  {
   "cell_type": "markdown",
   "id": "03642fd9",
   "metadata": {},
   "source": [
    "# Pergunta 1"
   ]
  },
  {
   "cell_type": "code",
   "execution_count": 46,
   "id": "0270649a",
   "metadata": {},
   "outputs": [
    {
     "name": "stdout",
     "output_type": "stream",
     "text": [
      "+---+\n",
      "|alt|\n",
      "+---+\n",
      "|  0|\n",
      "+---+\n",
      "\n",
      "root\n",
      " |-- faa: string (nullable = true)\n",
      " |-- name: string (nullable = true)\n",
      " |-- lat: float (nullable = true)\n",
      " |-- lon: float (nullable = true)\n",
      " |-- alt: integer (nullable = true)\n",
      " |-- tz: integer (nullable = true)\n",
      " |-- dst: string (nullable = true)\n",
      "\n"
     ]
    }
   ],
   "source": [
    "df = df_airports.withColumn('alt', F.when(F.col('alt') < 0 , 0).otherwise(F.col('alt')))\n",
    "\n",
    "df.createOrReplaceTempView('airports')\n",
    "\n",
    "spark.getOrCreate().sql(\"select distinct(alt) from airports where alt <= 0\").show()\n",
    "\n",
    "df.printSchema()"
   ]
  },
  {
   "cell_type": "markdown",
   "id": "056a13e4",
   "metadata": {},
   "source": [
    "# Pergunta 2"
   ]
  },
  {
   "cell_type": "code",
   "execution_count": 10,
   "id": "d0821d90",
   "metadata": {},
   "outputs": [
    {
     "name": "stdout",
     "output_type": "stream",
     "text": [
      "+---+\n",
      "|dst|\n",
      "+---+\n",
      "|  A|\n",
      "+---+\n",
      "\n"
     ]
    }
   ],
   "source": [
    "df = df_airports.withColumn('dst', F.when(F.col('tz').between(-7,-5), 'A').otherwise(F.col('dst')))\n",
    "\n",
    "df.createOrReplaceTempView('airports')\n",
    "\n",
    "spark.getOrCreate().sql(\"select distinct(dst) from airports where tz between -7 and -5\").show()"
   ]
  },
  {
   "cell_type": "markdown",
   "id": "ec295619",
   "metadata": {},
   "source": [
    "# Pergunta 3"
   ]
  },
  {
   "cell_type": "code",
   "execution_count": 11,
   "id": "6c59eff7",
   "metadata": {},
   "outputs": [
    {
     "name": "stdout",
     "output_type": "stream",
     "text": [
      "+---+\n",
      "|dst|\n",
      "+---+\n",
      "+---+\n",
      "\n"
     ]
    }
   ],
   "source": [
    "df = df_airports.withColumn('dst', F.when(F.col('dst') == 'U', 'A').otherwise(F.col('dst')))\n",
    "\n",
    "df.createOrReplaceTempView('airports')\n",
    "\n",
    "spark.getOrCreate().sql(\"select distinct(dst) from airports where dst = 'U'\").show()"
   ]
  },
  {
   "cell_type": "markdown",
   "id": "0907cc52",
   "metadata": {},
   "source": [
    "# Pergunta 4"
   ]
  },
  {
   "cell_type": "code",
   "execution_count": 48,
   "id": "9a15415f",
   "metadata": {},
   "outputs": [],
   "source": [
    "df = df_airports.withColumn('region', (\n",
    "                    F.when(F.col('lon') < -124, 'ALASKA')\n",
    "                     .when(F.col('lon') > -50, 'OFFSHORE')\n",
    "                     .when(F.col('lon').between(-124, -95), 'MAINLAND-WEST')\n",
    "                     .when(F.col('lon').between(-95, -50), 'MAINLAND-EAST')\n",
    "                     .otherwise(None)))       \n"
   ]
  },
  {
   "cell_type": "code",
   "execution_count": 50,
   "id": "88ef2530",
   "metadata": {},
   "outputs": [
    {
     "name": "stdout",
     "output_type": "stream",
     "text": [
      "+---+--------------------+---------+----------+----+---+---+------+\n",
      "|faa|                name|      lat|       lon| alt| tz|dst|region|\n",
      "+---+--------------------+---------+----------+----+---+---+------+\n",
      "|1C9|Frazier Lake Airpark|54.013332|-124.76833| 152| -8|  A|ALASKA|\n",
      "|369|  Atmautluak Airport| 60.86667|-162.27306|  18|-10|  A|ALASKA|\n",
      "|6K8|Tok Junction Airport|63.329445|-142.95361|1639| -9|  A|ALASKA|\n",
      "|6S2|            Florence| 43.98282|-124.11137|  51| -7|  A|ALASKA|\n",
      "|ABL|      Ambler Airport| 67.10639| -157.8575| 334| -9|  A|ALASKA|\n",
      "|ACV|              Arcata| 40.97811|-124.10861| 221| -8|  A|ALASKA|\n",
      "|ADK|        Adak Airport|   51.878|  -176.646|  18|-10|  A|ALASKA|\n",
      "|ADQ|              Kodiak|57.749966|-152.49385|  78| -9|  A|ALASKA|\n",
      "|AET|   Allakaket Airport|  66.5519| -152.6222| 441| -8|  A|ALASKA|\n",
      "|AFE|        Kake Airport|56.961388|-133.91028| 172| -9|  A|ALASKA|\n",
      "|AGN|Angoon Seaplane Base|57.503613|  -134.585|   0| -9|  A|ALASKA|\n",
      "|AIN|  Wainwright Airport|70.638054|-159.99472|  41| -9|  A|ALASKA|\n",
      "|AKB|        Atka Airport| 52.22028|-174.20639|  56| -9|  A|ALASKA|\n",
      "|AKI|       Akiak Airport| 60.90278|-161.23056|  30| -9|  A|ALASKA|\n",
      "|AKK|      Akhiok Airport| 56.93861| -154.1825|  44| -9|  A|ALASKA|\n",
      "|AKN|         King Salmon|58.676777|-156.64928|  68| -9|  A|ALASKA|\n",
      "|AKP|Anaktuvuk Pass Ai...|  68.1336|  -151.743|2103| -9|  A|ALASKA|\n",
      "|ALZ|Alitak Seaplane Base|56.899445|-154.24777|   0| -9|  A|ALASKA|\n",
      "|ANC|Ted Stevens Ancho...|61.174362|-149.99637| 152| -9|  A|ALASKA|\n",
      "|ANI|       Aniak Airport|  61.5816|  -159.543|  88| -9|  A|ALASKA|\n",
      "+---+--------------------+---------+----------+----+---+---+------+\n",
      "only showing top 20 rows\n",
      "\n"
     ]
    }
   ],
   "source": [
    "df.createOrReplaceTempView('airports')\n",
    "\n",
    "spark.getOrCreate().sql(\"select * from airports where region == 'ALASKA'\").show()"
   ]
  },
  {
   "cell_type": "markdown",
   "id": "8c635e3c",
   "metadata": {},
   "source": [
    "# Pergunta 5"
   ]
  },
  {
   "cell_type": "code",
   "execution_count": 14,
   "id": "9e193d31",
   "metadata": {},
   "outputs": [],
   "source": [
    "df = df_airports.withColumn('type', (\n",
    "                    F.when(F.col('name').rlike('Airport|Tradeport|Heliport|Airport|Arpt'), 'AP')\n",
    "                     .when(F.col('name').rlike('Aerodrome'), 'AD')\n",
    "                     .when(F.col('name').rlike('airpark|Aero Park'), 'AK')\n",
    "                     .when(F.col('name').rlike('Field|Fld'), 'FL')\n",
    "                     .otherwise(None)))       \n"
   ]
  },
  {
   "cell_type": "code",
   "execution_count": 15,
   "id": "7d62d797",
   "metadata": {},
   "outputs": [
    {
     "name": "stdout",
     "output_type": "stream",
     "text": [
      "+---+--------------------+---------+----------+----+---+---+----+\n",
      "|faa|                name|      lat|       lon| alt| tz|dst|type|\n",
      "+---+--------------------+---------+----------+----+---+---+----+\n",
      "|4A7|Clayton County Ta...|  33.3891|  -84.3324| 874| -5|  A|  FL|\n",
      "|4B8|     Robertson Field|41.689335| -72.86469| 202| -5|  A|  FL|\n",
      "|7A4|        Foster Field|42.466446| -90.16939| 990| -6|  A|  FL|\n",
      "|AGS|Augusta Rgnl At B...|33.369946|  -81.9645| 144| -5|  A|  FL|\n",
      "|ASE|Aspen Pitkin Coun...|  39.2232|  -106.869|7820| -7|  A|  FL|\n",
      "|BBX|         Wings Field|  40.1375|   -75.265| 302| -5|  A|  FL|\n",
      "|BED|Laurence G Hansco...| 42.46995| -71.28903| 133| -5|  A|  FL|\n",
      "|BFI|Boeing Fld King C...|    47.53|-122.30195|  21| -8|  A|  FL|\n",
      "|BFL|         Meadows Fld|35.433598|-119.05677| 507| -8|  A|  FL|\n",
      "|BGM|Greater Binghamto...| 42.20869|-75.979836|1636| -5|  A|  FL|\n",
      "|BTR|Baton Rouge Metro...|30.533167|-91.149635|  70| -6|  A|  FL|\n",
      "|BZN|      Gallatin Field| 45.77764|-111.16015|4500| -7|  A|  FL|\n",
      "|C16|        Frasca Field|40.144978|-88.200195| 735| -6|  A|  FL|\n",
      "|CDN|      Woodward Field|34.283585| -80.56486| 302| -5|  A|  FL|\n",
      "|CFD|         Coulter Fld|30.715694| -96.33136| 367| -6|  A|  FL|\n",
      "|CGX|         Meigs Field| 41.86028| -87.60972| 585| -6|  A|  FL|\n",
      "|CHA|          Lovell Fld| 35.03528| -85.20381| 683| -5|  A|  FL|\n",
      "|CLL|      Easterwood Fld|30.588583| -96.36383| 321| -6|  A|  FL|\n",
      "|CNY|   Canyonlands Field|   38.755|-109.75472|4555| -7|  A|  FL|\n",
      "|CYS|Cheyenne Rgnl Jer...|41.155724|-104.81184|6156| -7|  A|  FL|\n",
      "+---+--------------------+---------+----------+----+---+---+----+\n",
      "only showing top 20 rows\n",
      "\n"
     ]
    }
   ],
   "source": [
    "df.createOrReplaceTempView('airports')\n",
    "\n",
    "spark.getOrCreate().sql(\"select * from airports where type = 'FL'\").show()"
   ]
  },
  {
   "cell_type": "markdown",
   "id": "713446bf",
   "metadata": {},
   "source": [
    "# Pergunta 6"
   ]
  },
  {
   "cell_type": "code",
   "execution_count": 16,
   "id": "1e9fc5af",
   "metadata": {},
   "outputs": [],
   "source": [
    "MILITARY = [\"Base\", \"Aaf\", \"AFs\", \"Ahp\", \"Afb\", \"LRRS\", \"Lrrs\", \"Arb\", \"Naf\", \"NAS\", \"Nas\", \"Jrb\", \"Ns\", \"As\", \"Cgas\", \"Angb\"]\n",
    "\n",
    "REGEX_MILITARY = r'|'.join(map(lambda x : f\".*({x}).*\", MILITARY))\n",
    "\n",
    "df = df_airports.withColumn('military', (\n",
    "                    F.when(F.col('name').rlike(REGEX_MILITARY), True)\n",
    "                     .otherwise(False)))  "
   ]
  },
  {
   "cell_type": "code",
   "execution_count": 17,
   "id": "25a4ac78",
   "metadata": {},
   "outputs": [
    {
     "name": "stdout",
     "output_type": "stream",
     "text": [
      "+--------+--------+\n",
      "|military|count(1)|\n",
      "+--------+--------+\n",
      "|    true|     166|\n",
      "|   false|    1231|\n",
      "+--------+--------+\n",
      "\n"
     ]
    }
   ],
   "source": [
    "df.createOrReplaceTempView('airports')\n",
    "\n",
    "spark.getOrCreate().sql(\"select military, count(*) from airports group by military\").show()\n"
   ]
  },
  {
   "cell_type": "markdown",
   "id": "1e6a0814",
   "metadata": {},
   "source": [
    "# Pergunta 7"
   ]
  },
  {
   "cell_type": "code",
   "execution_count": 18,
   "id": "002da333",
   "metadata": {},
   "outputs": [],
   "source": [
    "df = df_airports.withColumn('administration', (\n",
    "                    F.when(F.col('name').rlike('International|Intl|Intercontinental'), 'I')\n",
    "                     .when(F.col('name').rlike('National|Natl'), 'N')\n",
    "                     .when(F.col('name').rlike('Regional|Reigonal|Rgnl|County|Metro|Metropolitan'), 'R')\n",
    "                     .when(F.col('name').rlike('Municipal|Muni|City'), 'M')\n",
    "                     .otherwise(None)))  "
   ]
  },
  {
   "cell_type": "code",
   "execution_count": 19,
   "id": "a6967545",
   "metadata": {},
   "outputs": [
    {
     "name": "stdout",
     "output_type": "stream",
     "text": [
      "+--------------------+--------------+\n",
      "|                name|administration|\n",
      "+--------------------+--------------+\n",
      "|Clow Internationa...|             I|\n",
      "|Albuquerque Inter...|             I|\n",
      "|Billings Logan In...|             I|\n",
      "|Chippewa County I...|             I|\n",
      "|William R Fairchi...|             I|\n",
      "|Hector Internatio...|             I|\n",
      "|Bishop International|             I|\n",
      "|St Lucie County I...|             I|\n",
      "|Wokal Field Glasg...|             I|\n",
      "|Greenville-Sparta...|             I|\n",
      "|Gary Chicago Inte...|             I|\n",
      "|Huntsville Intern...|             I|\n",
      "|Sawyer Internatio...|             I|\n",
      "|International Air...|             I|\n",
      "|Pease Internation...|             I|\n",
      "|Chicago Rockford ...|             I|\n",
      "|San Bernardino In...|             I|\n",
      "|Louisville Intern...|             I|\n",
      "+--------------------+--------------+\n",
      "\n"
     ]
    }
   ],
   "source": [
    "df.createOrReplaceTempView('airports')\n",
    "\n",
    "spark.getOrCreate().sql(\"select name, administration from airports where name like '%International%'\").show()"
   ]
  },
  {
   "cell_type": "markdown",
   "id": "4ccca94f",
   "metadata": {},
   "source": [
    "# PLANES DATASET"
   ]
  },
  {
   "cell_type": "markdown",
   "id": "129d1e36",
   "metadata": {},
   "source": [
    "# Pergunta 1"
   ]
  },
  {
   "cell_type": "code",
   "execution_count": 20,
   "id": "381542a3",
   "metadata": {},
   "outputs": [
    {
     "name": "stdout",
     "output_type": "stream",
     "text": [
      "+--------+\n",
      "|tailchar|\n",
      "+--------+\n",
      "|       K|\n",
      "|      DZ|\n",
      "|      PC|\n",
      "|      UA|\n",
      "|      PS|\n",
      "|      AA|\n",
      "|      AY|\n",
      "|      MX|\n",
      "|       F|\n",
      "|       Q|\n",
      "|      RR|\n",
      "|      JC|\n",
      "|      AT|\n",
      "|      SW|\n",
      "|      EV|\n",
      "|      DQ|\n",
      "|      UW|\n",
      "|      VA|\n",
      "|       E|\n",
      "|      VJ|\n",
      "+--------+\n",
      "only showing top 20 rows\n",
      "\n"
     ]
    }
   ],
   "source": [
    "df = df_planes.withColumn('tailchar', F.regexp_replace(F.col('tailnum'), '[0-9|N]+',\"\"))\n",
    "\n",
    "df.createOrReplaceTempView('planes')\n",
    "\n",
    "spark.getOrCreate().sql(\"select distinct(tailchar) from planes\").show()"
   ]
  },
  {
   "cell_type": "markdown",
   "id": "a356ffef",
   "metadata": {},
   "source": [
    "# Pergunta 2"
   ]
  },
  {
   "cell_type": "code",
   "execution_count": 52,
   "id": "f619c69b",
   "metadata": {},
   "outputs": [
    {
     "name": "stdout",
     "output_type": "stream",
     "text": [
      "+----+\n",
      "|year|\n",
      "+----+\n",
      "|1959|\n",
      "|1990|\n",
      "|1975|\n",
      "|2003|\n",
      "|2007|\n",
      "|2006|\n",
      "|2013|\n",
      "|null|\n",
      "|1988|\n",
      "|1997|\n",
      "+----+\n",
      "only showing top 10 rows\n",
      "\n"
     ]
    }
   ],
   "source": [
    "df = df_planes.withColumn('year', F.when(F.col('year') == 0, 1996)\n",
    "                                   .otherwise(F.col('year')) \n",
    "                         )\n",
    "\n",
    "df.createOrReplaceTempView('planes')\n",
    "\n",
    "spark.getOrCreate().sql(\"select distinct(year) from planes\").show(10)"
   ]
  },
  {
   "cell_type": "markdown",
   "id": "b5d28667",
   "metadata": {},
   "source": [
    "# Pergunta 3"
   ]
  },
  {
   "cell_type": "code",
   "execution_count": 22,
   "id": "90df5ab2",
   "metadata": {
    "scrolled": true
   },
   "outputs": [],
   "source": [
    "#criando df auxiliar com o ano mais recente para cada manufacturer e model\n",
    "\n",
    "df_aux1 = df_planes.select('manufacturer', 'model', 'year').groupBy('manufacturer', 'model').agg(F.min('year').alias('aux_year_1')).orderBy(F.col('manufacturer'), F.col('model'))\n",
    "\n",
    "df_aux2 = df_planes.select('manufacturer', 'year').groupBy('manufacturer').agg(F.min('year').alias('aux_year_2')).orderBy(F.col('manufacturer'))\n",
    "\n",
    "df_aux1 = df_aux1.withColumnRenamed('manufacturer', 'manufacturer_aux1').withColumnRenamed('model', 'model_aux1')\n",
    "\n",
    "df_aux2 = df_aux2.withColumnRenamed('manufacturer', 'manufacturer_aux2')\n",
    "\n",
    "condition = [df_planes.model == df_aux1.model_aux1, df_planes.manufacturer == df_aux1.manufacturer_aux1]\n",
    "\n",
    "df_aux3 = df_planes.join(df_aux1, condition, 'left').withColumnRenamed('aux_year_1', 'aux_year_first_condition')\n",
    "\n",
    "df_aux3 = df_aux3.drop('manufacturer_aux1', 'model_aux1')\n",
    "  \n",
    "condition1 = [df_aux3.manufacturer == df_aux2.manufacturer_aux2]\n",
    "\n",
    "df_aux4 = df_aux3.join(df_aux2, condition1, 'left').withColumnRenamed('aux_year_2', 'aux_year_second_condition')\n",
    "\n",
    "df_aux4 = df_aux4.drop('manufacturer_aux2') \n",
    "\n"
   ]
  },
  {
   "cell_type": "code",
   "execution_count": 23,
   "id": "39422a75",
   "metadata": {},
   "outputs": [
    {
     "name": "stdout",
     "output_type": "stream",
     "text": [
      "+----+---------------+-------------+------------------------+-------------------------+\n",
      "|year|   manufacturer|        model|aux_year_first_condition|aux_year_second_condition|\n",
      "+----+---------------+-------------+------------------------+-------------------------+\n",
      "|null|LAMBERT RICHARD|    FALCON XP|                    null|                     null|\n",
      "|null|  BARKER JACK L|ZODIAC 601HDS|                    null|                     null|\n",
      "+----+---------------+-------------+------------------------+-------------------------+\n",
      "\n"
     ]
    }
   ],
   "source": [
    "df = df_aux4.withColumn('year', F.when(F.col('year').isNull(), F.col('aux_year_first_condition'))\n",
    "                                 .otherwise(F.col('aux_year_first_condition'))\n",
    "                       )\n",
    "\n",
    "df = df_aux4.withColumn('year', F.when(F.col('aux_year_first_condition').isNull(), F.col('aux_year_second_condition'))\n",
    "                                 .otherwise(F.col('aux_year_first_condition'))\n",
    "                       )\n",
    "                               \n",
    "df = df.select('year', 'manufacturer', 'model', 'aux_year_first_condition', 'aux_year_second_condition')\n",
    "\n",
    "df.createOrReplaceTempView('planes')\n",
    "\n",
    "spark.getOrCreate().sql(\"select * from planes where year is Null\").show()\n"
   ]
  },
  {
   "cell_type": "markdown",
   "id": "a13c8f18",
   "metadata": {},
   "source": [
    "# Pergunta 4"
   ]
  },
  {
   "cell_type": "code",
   "execution_count": 53,
   "id": "0be75151",
   "metadata": {},
   "outputs": [
    {
     "name": "stdout",
     "output_type": "stream",
     "text": [
      "+---+\n",
      "|age|\n",
      "+---+\n",
      "| 31|\n",
      "| 34|\n",
      "| 28|\n",
      "| 27|\n",
      "| 26|\n",
      "+---+\n",
      "only showing top 5 rows\n",
      "\n",
      "root\n",
      " |-- tailnum: string (nullable = true)\n",
      " |-- year: integer (nullable = true)\n",
      " |-- type: string (nullable = true)\n",
      " |-- manufacturer: string (nullable = true)\n",
      " |-- model: string (nullable = true)\n",
      " |-- engines: integer (nullable = true)\n",
      " |-- seats: integer (nullable = true)\n",
      " |-- speed: integer (nullable = true)\n",
      " |-- engine: string (nullable = true)\n",
      " |-- age: integer (nullable = true)\n",
      "\n"
     ]
    }
   ],
   "source": [
    "df = df_planes.withColumn('age', (F.year(F.current_date()))-F.col('year'))\n",
    "\n",
    "df.createOrReplaceTempView('planes')\n",
    "\n",
    "spark.getOrCreate().sql(\"select distinct(age) from planes\").show(5)\n",
    "\n",
    "df.printSchema()"
   ]
  },
  {
   "cell_type": "markdown",
   "id": "2aceee7e",
   "metadata": {},
   "source": [
    "# Pergunta 5"
   ]
  },
  {
   "cell_type": "code",
   "execution_count": 25,
   "id": "2581ee3d",
   "metadata": {},
   "outputs": [
    {
     "name": "stdout",
     "output_type": "stream",
     "text": [
      "+----------+\n",
      "|      type|\n",
      "+----------+\n",
      "|SINGLE_ENG|\n",
      "| MULTI_ENG|\n",
      "|ROTORCRAFT|\n",
      "+----------+\n",
      "\n"
     ]
    }
   ],
   "source": [
    "df = df_planes.withColumn('type', F.when(F.col('type') == 'Fixed wing multi engine', 'MULTI_ENG')\n",
    "                                   .when(F.col('type') == 'Fixed wing single engine', 'SINGLE_ENG')\n",
    "                                   .when(F.col('type') == 'Rotorcraft', 'ROTORCRAFT')\n",
    "                         )\n",
    "\n",
    "df.createOrReplaceTempView('planes')\n",
    "\n",
    "spark.getOrCreate().sql(\"select distinct(type) from planes\").show()"
   ]
  },
  {
   "cell_type": "markdown",
   "id": "769b5042",
   "metadata": {},
   "source": [
    "# Pergunta 6"
   ]
  },
  {
   "cell_type": "code",
   "execution_count": 26,
   "id": "51823ce6",
   "metadata": {},
   "outputs": [
    {
     "name": "stdout",
     "output_type": "stream",
     "text": [
      "+-------------------+\n",
      "|       manufacturer|\n",
      "+-------------------+\n",
      "|             AIRBUS|\n",
      "|        BARKER JACK|\n",
      "|               BELL|\n",
      "|             BOEING|\n",
      "|         BOMBARDIER|\n",
      "|           CANADAIR|\n",
      "|             CESSNA|\n",
      "|             CIRRUS|\n",
      "|            EMBRAER|\n",
      "|         GULFSTREAM|\n",
      "|       KILDALL GARY|\n",
      "|    LAMBERT RICHARD|\n",
      "|         MARZ BARRY|\n",
      "|  MCDONNELL DOUGLAS|\n",
      "|              PIPER|\n",
      "|ROBINSON HELICOPTER|\n",
      "|           SIKORSKY|\n",
      "+-------------------+\n",
      "\n"
     ]
    }
   ],
   "source": [
    "df = df_planes.withColumn('manufacturer', F.when(F.col('manufacturer') == 'AIRBUS INDUSTRIE', 'AIRBUS')\n",
    "                                           .when(F.col('manufacturer') == 'BOMBARDIER INC', 'BOMBARDIER') \n",
    "                                           .when(F.col('manufacturer').rlike('MCDONNELL DOUGLAS...'), 'MCDONNELL DOUGLAS')\n",
    "                                           .when(F.col('manufacturer') == 'CIRRUS DESIGN CORP', 'CIRRUS')\n",
    "                                           .when(F.col('manufacturer') == 'BARKER JACK L', 'BARKER JACK')\n",
    "                                           .when(F.col('manufacturer').rlike('ROBINSON HELICOPT...'), 'ROBINSON HELICOPTER')\n",
    "                                           .when(F.col('manufacturer') == 'GULFSTREAM AEROSPACE', 'GULFSTREAM')\n",
    "                                           .otherwise(F.col('manufacturer'))\n",
    "                         )\n",
    "\n",
    "df.createOrReplaceTempView('planes')\n",
    "\n",
    "spark.getOrCreate().sql(\"select distinct(manufacturer) from planes order by manufacturer\").show()"
   ]
  },
  {
   "cell_type": "markdown",
   "id": "f7ed68d4",
   "metadata": {},
   "source": [
    "# Pergunta 7"
   ]
  },
  {
   "cell_type": "code",
   "execution_count": 27,
   "id": "d38ffc47",
   "metadata": {},
   "outputs": [
    {
     "name": "stdout",
     "output_type": "stream",
     "text": [
      "+--------------+\n",
      "|         model|\n",
      "+--------------+\n",
      "|  GV-SP (G550)|\n",
      "|DC-9-82(MD-82)|\n",
      "|    210-5(205)|\n",
      "|DC-9-83(MD-83)|\n",
      "+--------------+\n",
      "\n",
      "+----------+------+\n",
      "|     model|model1|\n",
      "+----------+------+\n",
      "|210-5(205)| 210-5|\n",
      "+----------+------+\n",
      "\n"
     ]
    }
   ],
   "source": [
    "df = df_planes.withColumn('model1', F.trim(F.regexp_replace(F.col('model'), '\\(([^)]+)\\)', \"\")))\n",
    "\n",
    "df_planes.createOrReplaceTempView('planes')\n",
    "\n",
    "spark.getOrCreate().sql(\"select distinct(model) from planes where model like '%(%'\").show()\n",
    "                                                                \n",
    "df.createOrReplaceTempView('planes')\n",
    "    \n",
    "spark.getOrCreate().sql(\"select model, model1 from planes where model like '%210-5%'\").show()\n"
   ]
  },
  {
   "cell_type": "markdown",
   "id": "d717af19",
   "metadata": {},
   "source": [
    "# Pergunta 8"
   ]
  },
  {
   "cell_type": "code",
   "execution_count": 28,
   "id": "de338656",
   "metadata": {},
   "outputs": [
    {
     "name": "stdout",
     "output_type": "stream",
     "text": [
      "+-------+----+--------------------+----------------+--------+-------+-----+-----+---------+\n",
      "|tailnum|year|                type|    manufacturer|   model|engines|seats|speed|   engine|\n",
      "+-------+----+--------------------+----------------+--------+-------+-----+-----+---------+\n",
      "| N102UW|1998|Fixed wing multi ...|AIRBUS INDUSTRIE|A320-214|      2|  182| null|Turbo-fan|\n",
      "| N103US|1999|Fixed wing multi ...|AIRBUS INDUSTRIE|A320-214|      2|  182| null|Turbo-fan|\n",
      "| N104UW|1999|Fixed wing multi ...|AIRBUS INDUSTRIE|A320-214|      2|  182| null|Turbo-fan|\n",
      "| N105UW|1999|Fixed wing multi ...|AIRBUS INDUSTRIE|A320-214|      2|  182| null|Turbo-fan|\n",
      "| N107US|1999|Fixed wing multi ...|AIRBUS INDUSTRIE|A320-214|      2|  182| null|Turbo-fan|\n",
      "+-------+----+--------------------+----------------+--------+-------+-----+-----+---------+\n",
      "only showing top 5 rows\n",
      "\n",
      "+-------+----+--------------------+----------------+--------+-------+-----+-----+---------+\n",
      "|tailnum|year|                type|    manufacturer|   model|engines|seats|speed|   engine|\n",
      "+-------+----+--------------------+----------------+--------+-------+-----+-----+---------+\n",
      "| N102UW|1998|Fixed wing multi ...|AIRBUS INDUSTRIE|A320-214|      2|  182|  506|Turbo-fan|\n",
      "+-------+----+--------------------+----------------+--------+-------+-----+-----+---------+\n",
      "\n"
     ]
    }
   ],
   "source": [
    "df = df_planes.withColumn('speed', F.when(F.col('speed').isNull(), F.col('seats')/0.36)\n",
    "                                    .otherwise(F.col('speed')) \n",
    "                         )\n",
    "\n",
    "df = df.withColumn('speed', F.ceil(F.col('speed')))\n",
    "\n",
    "df_planes.createOrReplaceTempView('planes')\n",
    "\n",
    "spark.getOrCreate().sql(\"select * from planes where speed is Null\").show(5)\n",
    "\n",
    "df.createOrReplaceTempView('planes')\n",
    "\n",
    "spark.getOrCreate().sql(\"select * from planes where tailnum = 'N102UW'\").show()\n",
    "\n"
   ]
  },
  {
   "cell_type": "markdown",
   "id": "ce82b31e",
   "metadata": {},
   "source": [
    "# Pergunta 9"
   ]
  },
  {
   "cell_type": "code",
   "execution_count": 29,
   "id": "5acb3e20",
   "metadata": {},
   "outputs": [
    {
     "name": "stdout",
     "output_type": "stream",
     "text": [
      "+-------------+-------------+\n",
      "|       engine|  engine_type|\n",
      "+-------------+-------------+\n",
      "|  Turbo-shaft|        SHAFT|\n",
      "|Reciprocating|Reciprocating|\n",
      "|    Turbo-fan|          FAN|\n",
      "|      4 Cycle|        CYCLE|\n",
      "|   Turbo-prop|         PROP|\n",
      "|    Turbo-jet|          JET|\n",
      "+-------------+-------------+\n",
      "\n"
     ]
    }
   ],
   "source": [
    "df = df_planes.withColumn('engine_type', F.when(F.col('engine').rlike('Turbo-'), F.upper(F.regexp_replace(F.col('engine'), 'Turbo-', \"\")))\n",
    "                                          .when(F.col('engine') == '4 Cycle', 'CYCLE') \n",
    "                                          .otherwise(F.col('engine'))\n",
    "                         )\n",
    "              \n",
    "df.createOrReplaceTempView('planes')\n",
    "\n",
    "spark.getOrCreate().sql(\"select engine, engine_type from planes group by 1, 2\").show()\n",
    "\n"
   ]
  },
  {
   "cell_type": "markdown",
   "id": "6734a51d",
   "metadata": {},
   "source": [
    "# FLIGHTS DATASET"
   ]
  },
  {
   "cell_type": "markdown",
   "id": "ff272f01",
   "metadata": {},
   "source": [
    "# Pergunta 1"
   ]
  },
  {
   "cell_type": "code",
   "execution_count": 30,
   "id": "d5e93003",
   "metadata": {
    "scrolled": true
   },
   "outputs": [
    {
     "name": "stdout",
     "output_type": "stream",
     "text": [
      "+----+------+\n",
      "|hour|minute|\n",
      "+----+------+\n",
      "+----+------+\n",
      "\n"
     ]
    }
   ],
   "source": [
    "df_flights = df_flights.withColumn('hour', F.when(F.col('hour').isNull(), 0)\n",
    "                                    .otherwise(F.col('hour'))\n",
    "                          ) \\\n",
    "               .withColumn('minute', F.when(F.col('minute').isNull(), 0)\n",
    "                                      .otherwise(F.col('minute')))\n",
    "                                 \n",
    "\n",
    "df_flights.createOrReplaceTempView('flights')\n",
    "\n",
    "spark.getOrCreate().sql(\"select hour, minute from flights where hour is Null or minute is Null\").show(5)\n",
    "\n"
   ]
  },
  {
   "cell_type": "markdown",
   "id": "0a24f4f4",
   "metadata": {},
   "source": [
    "# Pergunta 2"
   ]
  },
  {
   "cell_type": "code",
   "execution_count": 31,
   "id": "700b10a4",
   "metadata": {},
   "outputs": [
    {
     "name": "stdout",
     "output_type": "stream",
     "text": [
      "+----+\n",
      "|hour|\n",
      "+----+\n",
      "+----+\n",
      "\n"
     ]
    }
   ],
   "source": [
    "df_flights = df_flights.withColumn('hour', F.when(F.col('hour') == 24 , 0)\n",
    "                                    .otherwise(F.col('hour'))  \n",
    "                          )\n",
    "\n",
    "\n",
    "df_flights.createOrReplaceTempView('flights')\n",
    "\n",
    "spark.getOrCreate().sql(\"select hour from flights where hour = 24\").show()"
   ]
  },
  {
   "cell_type": "markdown",
   "id": "dd9d3eeb",
   "metadata": {},
   "source": [
    "# Pergunta 3"
   ]
  },
  {
   "cell_type": "code",
   "execution_count": 32,
   "id": "b2baf2fd",
   "metadata": {},
   "outputs": [
    {
     "name": "stdout",
     "output_type": "stream",
     "text": [
      "+-------------------+----+-----+---+----+------+\n",
      "|       dep_datetime|year|month|day|hour|minute|\n",
      "+-------------------+----+-----+---+----+------+\n",
      "|2014-12-08 06:58:00|2014|   12|  8|   6|    58|\n",
      "|2014-01-22 10:40:00|2014|    1| 22|  10|    40|\n",
      "|2014-03-09 14:43:00|2014|    3|  9|  14|    43|\n",
      "|2014-04-09 17:05:00|2014|    4|  9|  17|     5|\n",
      "|2014-03-09 07:54:00|2014|    3|  9|   7|    54|\n",
      "+-------------------+----+-----+---+----+------+\n",
      "only showing top 5 rows\n",
      "\n",
      "root\n",
      " |-- year: integer (nullable = true)\n",
      " |-- month: integer (nullable = true)\n",
      " |-- day: integer (nullable = true)\n",
      " |-- dep_time: string (nullable = true)\n",
      " |-- dep_delay: integer (nullable = true)\n",
      " |-- arr_time: string (nullable = true)\n",
      " |-- arr_delay: integer (nullable = true)\n",
      " |-- carrier: string (nullable = true)\n",
      " |-- tailnum: string (nullable = true)\n",
      " |-- flight: string (nullable = true)\n",
      " |-- origin: string (nullable = true)\n",
      " |-- dest: string (nullable = true)\n",
      " |-- air_time: integer (nullable = true)\n",
      " |-- distance: integer (nullable = true)\n",
      " |-- hour: integer (nullable = true)\n",
      " |-- minute: integer (nullable = true)\n",
      " |-- dep_datetime: timestamp (nullable = true)\n",
      "\n"
     ]
    }
   ],
   "source": [
    "df_flights = df_flights.withColumn('dep_datetime', \n",
    "                    F.to_timestamp( F.concat_ws(' ', F.concat_ws('-', df_flights.year, df_flights.month, df_flights.day),\n",
    "                                                     F.concat_ws(':', df_flights.hour, df_flights.minute, F.lit(00))       \n",
    "                                               )\n",
    "                                  )\n",
    ")\n",
    "\n",
    "df_flights.createOrReplaceTempView('flights')\n",
    "\n",
    "spark.getOrCreate().sql(\"select dep_datetime, year, month, day, hour, minute from flights\").show(5)\n",
    "\n",
    "df_flights.printSchema()"
   ]
  },
  {
   "cell_type": "markdown",
   "id": "ff62eac7",
   "metadata": {},
   "source": [
    "# Pergunta 4"
   ]
  },
  {
   "cell_type": "code",
   "execution_count": 33,
   "id": "82d381ac",
   "metadata": {},
   "outputs": [
    {
     "name": "stdout",
     "output_type": "stream",
     "text": [
      "+--------+----+------+\n",
      "|dep_time|hour|minute|\n",
      "+--------+----+------+\n",
      "|     658|   6|    58|\n",
      "|    1040|  10|    40|\n",
      "|    1443|  14|    43|\n",
      "|    1705|  17|     5|\n",
      "|     754|   7|    54|\n",
      "+--------+----+------+\n",
      "only showing top 5 rows\n",
      "\n"
     ]
    }
   ],
   "source": [
    "df_flights = df_flights.withColumn('dep_time', F.when(F.col('dep_time') == 'NA', F.concat(F.col('hour'), F.col('minute')))\n",
    "                                                .otherwise(F.col('dep_time'))   \n",
    "                                  )\n",
    "\n",
    "df_flights.createOrReplaceTempView('flights')\n",
    "\n",
    "spark.getOrCreate().sql(\"select dep_time, hour, minute from flights\").show(5)"
   ]
  },
  {
   "cell_type": "markdown",
   "id": "c263314f",
   "metadata": {},
   "source": [
    "# Pergunta 5"
   ]
  },
  {
   "cell_type": "code",
   "execution_count": 54,
   "id": "03dbf72e",
   "metadata": {},
   "outputs": [
    {
     "name": "stdout",
     "output_type": "stream",
     "text": [
      "+---+--------+---------+--------+---------+-------+-------+------+------+----+--------+--------+------------+------------------+-----------------+-------------+----------+------------------+\n",
      "|day|dep_time|dep_delay|arr_time|arr_delay|carrier|tailnum|flight|origin|dest|air_time|distance|dep_datetime|air_time_projected|air_time_expected|haul_duration|dep_season|dep_delay_category|\n",
      "+---+--------+---------+--------+---------+-------+-------+------+------+----+--------+--------+------------+------------------+-----------------+-------------+----------+------------------+\n",
      "+---+--------+---------+--------+---------+-------+-------+------+------+----+--------+--------+------------+------------------+-----------------+-------------+----------+------------------+\n",
      "\n"
     ]
    }
   ],
   "source": [
    "df_flights = df_flights.withColumn('dep_delay', F.when(F.col('dep_delay').isNull(), 0)\n",
    "                                         .otherwise(F.col('dep_delay')))\n",
    "\n",
    "df_flights.createOrReplaceTempView('flights')\n",
    "\n",
    "spark.getOrCreate().sql(\"select * from flights where dep_delay = 'NA' or dep_delay is Null\").show()\n"
   ]
  },
  {
   "cell_type": "markdown",
   "id": "878194bc",
   "metadata": {},
   "source": [
    "# Pergunta 6"
   ]
  },
  {
   "cell_type": "code",
   "execution_count": 35,
   "id": "8661b416",
   "metadata": {},
   "outputs": [
    {
     "name": "stdout",
     "output_type": "stream",
     "text": [
      "+----+-----+---+--------+---------+--------+---------+-------+-------+------+------+----+--------+--------+----+------+------------+\n",
      "|year|month|day|dep_time|dep_delay|arr_time|arr_delay|carrier|tailnum|flight|origin|dest|air_time|distance|hour|minute|dep_datetime|\n",
      "+----+-----+---+--------+---------+--------+---------+-------+-------+------+------+----+--------+--------+----+------+------------+\n",
      "+----+-----+---+--------+---------+--------+---------+-------+-------+------+------+----+--------+--------+----+------+------------+\n",
      "\n"
     ]
    }
   ],
   "source": [
    "df_flights = df_flights.withColumn('arr_delay', F.when(F.col('arr_delay').isNull(), 0)\n",
    "                                         .otherwise(F.col('arr_delay')))\n",
    "\n",
    "df_flights.createOrReplaceTempView('flights')\n",
    "\n",
    "spark.getOrCreate().sql(\"select * from flights where arr_delay is Null\").show()"
   ]
  },
  {
   "cell_type": "markdown",
   "id": "729dde44",
   "metadata": {},
   "source": [
    "# Pergunta 7"
   ]
  },
  {
   "cell_type": "code",
   "execution_count": 36,
   "id": "0b7977d9",
   "metadata": {},
   "outputs": [
    {
     "name": "stdout",
     "output_type": "stream",
     "text": [
      "+---+--------+---------+--------+---------+-------+-------+------+------+----+--------+--------+------------+\n",
      "|day|dep_time|dep_delay|arr_time|arr_delay|carrier|tailnum|flight|origin|dest|air_time|distance|dep_datetime|\n",
      "+---+--------+---------+--------+---------+-------+-------+------+------+----+--------+--------+------------+\n",
      "+---+--------+---------+--------+---------+-------+-------+------+------+----+--------+--------+------------+\n",
      "\n"
     ]
    }
   ],
   "source": [
    "df_flights = df_flights.drop('year', 'month', 'hour', 'minute')\n",
    "\n",
    "df_flights.createOrReplaceTempView('flights')\n",
    "\n",
    "spark.getOrCreate().sql(\"select * from flights where arr_delay is Null\").show()"
   ]
  },
  {
   "cell_type": "markdown",
   "id": "d13fa117",
   "metadata": {},
   "source": [
    "# Pergunta 8"
   ]
  },
  {
   "cell_type": "code",
   "execution_count": 37,
   "id": "1cf0ee9b",
   "metadata": {},
   "outputs": [
    {
     "name": "stdout",
     "output_type": "stream",
     "text": [
      "root\n",
      " |-- day: integer (nullable = true)\n",
      " |-- dep_time: string (nullable = true)\n",
      " |-- dep_delay: integer (nullable = true)\n",
      " |-- arr_time: string (nullable = true)\n",
      " |-- arr_delay: integer (nullable = true)\n",
      " |-- carrier: string (nullable = true)\n",
      " |-- tailnum: string (nullable = true)\n",
      " |-- flight: string (nullable = true)\n",
      " |-- origin: string (nullable = true)\n",
      " |-- dest: string (nullable = true)\n",
      " |-- air_time: integer (nullable = true)\n",
      " |-- distance: integer (nullable = true)\n",
      " |-- dep_datetime: timestamp (nullable = true)\n",
      " |-- air_time_projected: integer (nullable = true)\n",
      "\n",
      "+--------+------------------+\n",
      "|distance|air_time_projected|\n",
      "+--------+------------------+\n",
      "|     954|               115|\n",
      "|    2677|               287|\n",
      "|     679|                87|\n",
      "|     569|                76|\n",
      "|     937|               113|\n",
      "+--------+------------------+\n",
      "only showing top 5 rows\n",
      "\n"
     ]
    }
   ],
   "source": [
    "df_flights = df_flights.withColumn('air_time_projected', F.col('distance')*0.1+20)\n",
    "\n",
    "df_flights = df_flights.withColumn('air_time_projected', F.col('air_time_projected').cast(IntegerType()))\n",
    "\n",
    "df_flights.printSchema()\n",
    "\n",
    "df_flights.createOrReplaceTempView('flights')\n",
    "\n",
    "spark.getOrCreate().sql(\"select distance, air_time_projected from flights\").show(5)\n"
   ]
  },
  {
   "cell_type": "markdown",
   "id": "efadccf4",
   "metadata": {},
   "source": [
    "# Pergunta 9"
   ]
  },
  {
   "cell_type": "code",
   "execution_count": 38,
   "id": "21162b27",
   "metadata": {},
   "outputs": [
    {
     "name": "stdout",
     "output_type": "stream",
     "text": [
      "+-------+-----+------------------+\n",
      "|origin1|dest1| air_time_expected|\n",
      "+-------+-----+------------------+\n",
      "|    SEA|  RNO|            74.375|\n",
      "|    SEA|  DTW|219.81632653061226|\n",
      "|    SEA|  CLE|             233.5|\n",
      "+-------+-----+------------------+\n",
      "only showing top 3 rows\n",
      "\n"
     ]
    }
   ],
   "source": [
    "dfaux = df_flights.groupBy('origin', 'dest').avg('air_time').withColumnRenamed('avg(air_time)','air_time_expected').withColumnRenamed('origin', 'origin1').withColumnRenamed('dest', 'dest1')\n",
    "\n",
    "dfaux.show(3)"
   ]
  },
  {
   "cell_type": "code",
   "execution_count": 39,
   "id": "5ff15cc0",
   "metadata": {},
   "outputs": [
    {
     "name": "stdout",
     "output_type": "stream",
     "text": [
      "+------+----+-----------------+\n",
      "|origin|dest|air_time_expected|\n",
      "+------+----+-----------------+\n",
      "|   SEA| LAX|              126|\n",
      "|   SEA| HNL|              343|\n",
      "|   SEA| SFO|              101|\n",
      "|   PDX| SJC|               85|\n",
      "|   SEA| BUR|              122|\n",
      "+------+----+-----------------+\n",
      "only showing top 5 rows\n",
      "\n",
      "root\n",
      " |-- day: integer (nullable = true)\n",
      " |-- dep_time: string (nullable = true)\n",
      " |-- dep_delay: integer (nullable = true)\n",
      " |-- arr_time: string (nullable = true)\n",
      " |-- arr_delay: integer (nullable = true)\n",
      " |-- carrier: string (nullable = true)\n",
      " |-- tailnum: string (nullable = true)\n",
      " |-- flight: string (nullable = true)\n",
      " |-- origin: string (nullable = true)\n",
      " |-- dest: string (nullable = true)\n",
      " |-- air_time: integer (nullable = true)\n",
      " |-- distance: integer (nullable = true)\n",
      " |-- dep_datetime: timestamp (nullable = true)\n",
      " |-- air_time_projected: integer (nullable = true)\n",
      " |-- air_time_expected: integer (nullable = true)\n",
      "\n"
     ]
    }
   ],
   "source": [
    "condition = [df_flights.origin == dfaux.origin1, df_flights.dest == dfaux.dest1]\n",
    "\n",
    "df_flights = df_flights.join(dfaux, condition, 'left')\n",
    "\n",
    "df_flights = df_flights.drop('origin1', 'dest1')\n",
    "\n",
    "df_flights = df_flights.withColumn('air_time_expected', F.col('air_time_expected').cast(IntegerType()))\n",
    "\n",
    "df_flights.createOrReplaceTempView('flights')\n",
    "\n",
    "spark.getOrCreate().sql(\"select origin, dest, air_time_expected from flights\").show(5)\n",
    "\n",
    "df_flights.printSchema()\n",
    "\n"
   ]
  },
  {
   "cell_type": "markdown",
   "id": "2b8dd1ec",
   "metadata": {},
   "source": [
    "# Pergunta 10"
   ]
  },
  {
   "cell_type": "code",
   "execution_count": 40,
   "id": "407038d9",
   "metadata": {
    "scrolled": true
   },
   "outputs": [
    {
     "name": "stdout",
     "output_type": "stream",
     "text": [
      "+--------+------------------+-----------------+\n",
      "|air_time|air_time_projected|air_time_expected|\n",
      "+--------+------------------+-----------------+\n",
      "|     126|               115|              126|\n",
      "|     343|               287|              343|\n",
      "|     101|                87|              101|\n",
      "|      85|                76|               85|\n",
      "|     122|               113|              122|\n",
      "+--------+------------------+-----------------+\n",
      "only showing top 5 rows\n",
      "\n"
     ]
    }
   ],
   "source": [
    "df_flights = df_flights.withColumn('air_time', F.when(F.col('air_time_projected')>=F.col('air_time_expected'), F.col('air_time_projected'))\n",
    "                                                .when(F.col('air_time_projected')<F.col('air_time_expected'), F.col('air_time_expected'))\n",
    "                                                .otherwise(F.col('air_time'))\n",
    "                                  \n",
    "                                  )\n",
    "\n",
    "#Both the functions greatest() and least() helps in identifying the greater and smaller value among few of the columns.\n",
    "\n",
    "df_flights.createOrReplaceTempView('flights')\n",
    "\n",
    "spark.getOrCreate().sql('select air_time, air_time_projected, air_time_expected from flights').show(5)\n"
   ]
  },
  {
   "cell_type": "markdown",
   "id": "1774c8db",
   "metadata": {},
   "source": [
    "# Pergunta 11"
   ]
  },
  {
   "cell_type": "code",
   "execution_count": 56,
   "id": "196e2b74",
   "metadata": {},
   "outputs": [
    {
     "name": "stdout",
     "output_type": "stream",
     "text": [
      "+--------+--------+--------+\n",
      "|arr_time|dep_time|air_time|\n",
      "+--------+--------+--------+\n",
      "|   127.0|      00|     127|\n",
      "|   268.0|      00|     268|\n",
      "|   214.0|      00|     214|\n",
      "|   114.0|      00|     114|\n",
      "|   279.0|      00|     279|\n",
      "|   339.0|      00|     339|\n",
      "|    34.0|      00|      34|\n",
      "|  2291.0|    2238|      53|\n",
      "|   277.0|      00|     277|\n",
      "|   114.0|      00|     114|\n",
      "|    85.0|      00|      85|\n",
      "|    81.0|      00|      81|\n",
      "|   213.0|      00|     213|\n",
      "|   127.0|      00|     127|\n",
      "|   141.0|      00|     141|\n",
      "|    1930|    1832|      98|\n",
      "|    30.0|      00|      30|\n",
      "|    32.0|      00|      32|\n",
      "|    30.0|      00|      30|\n",
      "|   202.0|      00|     202|\n",
      "+--------+--------+--------+\n",
      "only showing top 20 rows\n",
      "\n"
     ]
    }
   ],
   "source": [
    "df_flights = df_flights.withColumn('arr_time', F.when(F.col('arr_time') == 'NA', F.col('dep_time')+F.col('air_time'))\n",
    "                                                .otherwise(F.col('arr_time'))  \n",
    "                                  )\n",
    "\n",
    "\n",
    "df_flights.createOrReplaceTempView('flights')\n",
    "\n",
    "spark.getOrCreate().sql(\"select arr_time, dep_time, air_time from flights where air_time + dep_time = arr_time\").show()"
   ]
  },
  {
   "cell_type": "markdown",
   "id": "100c18d1",
   "metadata": {},
   "source": [
    "# Pergunta 12 "
   ]
  },
  {
   "cell_type": "code",
   "execution_count": 42,
   "id": "509e5a51",
   "metadata": {},
   "outputs": [
    {
     "name": "stdout",
     "output_type": "stream",
     "text": [
      "+-------------+--------+\n",
      "|haul_duration|air_time|\n",
      "+-------------+--------+\n",
      "|   SHORT-HAUL|     126|\n",
      "|    LONG-HAUL|     343|\n",
      "|   SHORT-HAUL|     101|\n",
      "|   SHORT-HAUL|      85|\n",
      "|   SHORT-HAUL|     122|\n",
      "|   SHORT-HAUL|     123|\n",
      "|   SHORT-HAUL|      81|\n",
      "|   SHORT-HAUL|     101|\n",
      "|   SHORT-HAUL|     137|\n",
      "|  MEDIUM-HAUL|     202|\n",
      "|   SHORT-HAUL|     126|\n",
      "|   SHORT-HAUL|     141|\n",
      "|   SHORT-HAUL|     118|\n",
      "|  MEDIUM-HAUL|     190|\n",
      "|   SHORT-HAUL|     101|\n",
      "|   SHORT-HAUL|      85|\n",
      "|   SHORT-HAUL|      82|\n",
      "|  MEDIUM-HAUL|     214|\n",
      "|  MEDIUM-HAUL|     286|\n",
      "|   SHORT-HAUL|     108|\n",
      "+-------------+--------+\n",
      "only showing top 20 rows\n",
      "\n"
     ]
    }
   ],
   "source": [
    "df_flights = df_flights.withColumn('haul_duration', F.when(F.col('air_time').between(20, 180), 'SHORT-HAUL')\n",
    "                                                     .when(F.col('air_time').between(180, 300), 'MEDIUM-HAUL')\n",
    "                                                     .when(F.col('air_time')>300 , 'LONG-HAUL') \n",
    "                                  )\n",
    "\n",
    "df_flights.createOrReplaceTempView('flights')\n",
    "\n",
    "spark.getOrCreate().sql(\"select haul_duration, air_time from flights\").show()"
   ]
  },
  {
   "cell_type": "markdown",
   "id": "462c45fa",
   "metadata": {},
   "source": [
    "# Pergunta 13"
   ]
  },
  {
   "cell_type": "code",
   "execution_count": 43,
   "id": "21d28ed2",
   "metadata": {},
   "outputs": [
    {
     "name": "stdout",
     "output_type": "stream",
     "text": [
      "+----------+-----+\n",
      "|dep_season|count|\n",
      "+----------+-----+\n",
      "|    WINTER| 2149|\n",
      "|    SPRING| 2560|\n",
      "|      FALL| 2373|\n",
      "|    SUMMER| 2918|\n",
      "+----------+-----+\n",
      "\n",
      "+-------------------+----------+\n",
      "|       dep_datetime|dep_season|\n",
      "+-------------------+----------+\n",
      "|2014-04-09 17:05:00|    SPRING|\n",
      "|2014-05-12 16:55:00|    SPRING|\n",
      "|2014-04-19 12:36:00|    SPRING|\n",
      "|2014-06-05 17:33:00|    SPRING|\n",
      "|2014-06-05 11:33:00|    SPRING|\n",
      "|2014-06-04 11:15:00|    SPRING|\n",
      "|2014-06-11 19:57:00|    SPRING|\n",
      "|2014-06-07 18:23:00|    SPRING|\n",
      "|2014-04-30 08:01:00|    SPRING|\n",
      "|2014-06-02 22:22:00|    SPRING|\n",
      "|2014-05-21 05:15:00|    SPRING|\n",
      "|2014-06-11 07:50:00|    SPRING|\n",
      "|2014-06-13 22:33:00|    SPRING|\n",
      "|2014-05-02 12:53:00|    SPRING|\n",
      "|2014-05-22 10:18:00|    SPRING|\n",
      "|2014-05-16 07:46:00|    SPRING|\n",
      "|2014-05-12 14:24:00|    SPRING|\n",
      "|2014-04-06 18:44:00|    SPRING|\n",
      "|2014-04-01 10:10:00|    SPRING|\n",
      "|2014-04-25 10:49:00|    SPRING|\n",
      "+-------------------+----------+\n",
      "only showing top 20 rows\n",
      "\n",
      "+-------------------+----------+\n",
      "|       dep_datetime|dep_season|\n",
      "+-------------------+----------+\n",
      "|2014-01-22 10:40:00|    WINTER|\n",
      "|2014-03-09 14:43:00|    WINTER|\n",
      "|2014-03-09 07:54:00|    WINTER|\n",
      "|2014-01-15 10:37:00|    WINTER|\n",
      "|2014-01-29 20:09:00|    WINTER|\n",
      "|2014-01-13 21:56:00|    WINTER|\n",
      "|2014-12-30 13:05:00|    WINTER|\n",
      "|2014-02-25 05:55:00|    WINTER|\n",
      "|2014-03-13 22:01:00|    WINTER|\n",
      "|2014-03-20 12:00:00|    WINTER|\n",
      "|2014-01-15 08:08:00|    WINTER|\n",
      "|2014-02-18 05:54:00|    WINTER|\n",
      "|2014-03-19 17:50:00|    WINTER|\n",
      "|2014-03-20 07:04:00|    WINTER|\n",
      "|2014-01-22 15:28:00|    WINTER|\n",
      "|2014-02-14 20:02:00|    WINTER|\n",
      "|2014-12-26 23:37:00|    WINTER|\n",
      "|2014-01-06 07:58:00|    WINTER|\n",
      "|2014-01-11 07:16:00|    WINTER|\n",
      "|2014-02-17 09:01:00|    WINTER|\n",
      "+-------------------+----------+\n",
      "only showing top 20 rows\n",
      "\n"
     ]
    }
   ],
   "source": [
    "df_flights = df_flights.withColumn('dep_season',\n",
    "                                        F.when(F.col('dep_datetime').between(F.concat(F.year('dep_datetime'),F.lit('-03-20 15:33:00')),F.concat(F.year('dep_datetime'),F.lit('-06-21 10:14:00'))), 'SPRING')\n",
    "                                         .when(F.col('dep_datetime').between(F.concat(F.year('dep_datetime'),F.lit('-06-21 10:14:00')),F.concat(F.year('dep_datetime'),F.lit('-09-23 02:04:00'))), 'SUMMER')\n",
    "                                         .when(F.col('dep_datetime').between(F.concat(F.year('dep_datetime'),F.lit('-09-23 02:04:00')),F.concat(F.year('dep_datetime'),F.lit('-12-21 21:48:00'))), 'FALL')\n",
    "                                         .otherwise('WINTER')\n",
    "                                  )\n",
    "\n",
    "\n",
    "df_flights.select('dep_season').groupBy('dep_season').count().show()\n",
    "df_flights.select('dep_datetime','dep_season').filter(df_flights.dep_season == 'SPRING').show()\n",
    "\n",
    "df_flights.createOrReplaceTempView('flights')\n",
    "\n",
    "spark.getOrCreate().sql(\"select dep_datetime, dep_season from flights where dep_season = 'WINTER'\").show()"
   ]
  },
  {
   "cell_type": "markdown",
   "id": "74092c89",
   "metadata": {},
   "source": [
    "# Pergunta 14"
   ]
  },
  {
   "cell_type": "code",
   "execution_count": 44,
   "id": "9890e78a",
   "metadata": {},
   "outputs": [
    {
     "name": "stdout",
     "output_type": "stream",
     "text": [
      "+---------+------------------+\n",
      "|dep_delay|dep_delay_category|\n",
      "+---------+------------------+\n",
      "|       -7|       ANTECIPATED|\n",
      "|        5|             MINOR|\n",
      "|       -2|       ANTECIPATED|\n",
      "|       45|             MINOR|\n",
      "|       -1|       ANTECIPATED|\n",
      "|        7|             MINOR|\n",
      "|       42|             MINOR|\n",
      "|       -5|       ANTECIPATED|\n",
      "|       -4|       ANTECIPATED|\n",
      "|       -3|       ANTECIPATED|\n",
      "|       -2|       ANTECIPATED|\n",
      "|        0|            INTIME|\n",
      "|       21|             MINOR|\n",
      "|       -4|       ANTECIPATED|\n",
      "|       89|             MAJOR|\n",
      "|        3|             MINOR|\n",
      "|       50|             MINOR|\n",
      "|       -3|       ANTECIPATED|\n",
      "|       -9|       ANTECIPATED|\n",
      "|      -12|       ANTECIPATED|\n",
      "+---------+------------------+\n",
      "only showing top 20 rows\n",
      "\n"
     ]
    }
   ],
   "source": [
    "df_flights = df_flights.withColumn('dep_delay_category', F.when(F.col('dep_delay')<0, 'ANTECIPATED')\n",
    "                                                          .when(F.col('dep_delay')==0, 'INTIME')\n",
    "                                                          .when(F.col('dep_delay').between(0,60), 'MINOR')\n",
    "                                                          .when(F.col('dep_delay')>60, 'MAJOR')\n",
    "                                  )\n",
    "\n",
    "\n",
    "df_flights.select('dep_delay', 'dep_delay_category').show()"
   ]
  }
 ],
 "metadata": {
  "kernelspec": {
   "display_name": "Python 3 (ipykernel)",
   "language": "python",
   "name": "python3"
  },
  "language_info": {
   "codemirror_mode": {
    "name": "ipython",
    "version": 3
   },
   "file_extension": ".py",
   "mimetype": "text/x-python",
   "name": "python",
   "nbconvert_exporter": "python",
   "pygments_lexer": "ipython3",
   "version": "3.9.7"
  }
 },
 "nbformat": 4,
 "nbformat_minor": 5
}
