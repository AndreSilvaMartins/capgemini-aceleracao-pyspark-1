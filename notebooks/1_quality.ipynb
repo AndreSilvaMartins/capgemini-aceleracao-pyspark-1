{
 "cells": [
  {
   "cell_type": "code",
   "execution_count": 1,
   "id": "d6235645",
   "metadata": {},
   "outputs": [
    {
     "name": "stdout",
     "output_type": "stream",
     "text": [
      "Requirement already satisfied: pyspark in c:\\users\\tsaheki\\anaconda3\\lib\\site-packages (3.2.1)\n",
      "Requirement already satisfied: py4j==0.10.9.3 in c:\\users\\tsaheki\\anaconda3\\lib\\site-packages (from pyspark) (0.10.9.3)\n",
      "Requirement already satisfied: findspark in c:\\users\\tsaheki\\anaconda3\\lib\\site-packages (2.0.1)\n"
     ]
    }
   ],
   "source": [
    "!pip install pyspark\n",
    "!pip install findspark"
   ]
  },
  {
   "cell_type": "code",
   "execution_count": 2,
   "id": "918c0059",
   "metadata": {},
   "outputs": [],
   "source": [
    "import findspark\n",
    "findspark.init()"
   ]
  },
  {
   "cell_type": "code",
   "execution_count": 3,
   "id": "e2b74800",
   "metadata": {},
   "outputs": [],
   "source": [
    "from pyspark import SparkContext, SparkConf\n",
    "from pyspark.sql import SparkSession\n",
    "from pyspark.sql import functions as F\n",
    "from pyspark.sql.types import StructType, StructField, StringType, IntegerType, FloatType\n",
    "from datetime import datetime"
   ]
  },
  {
   "cell_type": "code",
   "execution_count": 4,
   "id": "101bab29",
   "metadata": {},
   "outputs": [],
   "source": [
    "# Criar o contexto do spark\n",
    "sc = SparkContext()\n",
    "\n",
    "# Instancia o criador de sessao do spark\n",
    "spark = (SparkSession.builder\n",
    "                     .master('local[2]')\n",
    "                     .appName('Qualidade beta')\n",
    "        )"
   ]
  },
  {
   "cell_type": "code",
   "execution_count": 5,
   "id": "bc115191",
   "metadata": {},
   "outputs": [],
   "source": [
    "schema_airports = StructType([\n",
    "    StructField('faa',  StringType(),  True),\n",
    "    StructField('name', StringType(),  True),\n",
    "    StructField('lat',  FloatType(),   True),\n",
    "    StructField('lon',  FloatType(),   True),\n",
    "    StructField('alt',  IntegerType(), True),\n",
    "    StructField('tz',   IntegerType(), True),\n",
    "    StructField('dst',  StringType(),  True)\n",
    "])\n",
    "\n",
    "schema_planes = StructType([\n",
    "    StructField('tailnum',      StringType(),  True),\n",
    "    StructField('year',         IntegerType(), True),\n",
    "    StructField('type',         StringType(),  True),\n",
    "    StructField('manufacturer', StringType(),  True),\n",
    "    StructField('model',        StringType(),  True),\n",
    "    StructField('engines',      IntegerType(), True),\n",
    "    StructField('seats',        IntegerType(), True),\n",
    "    StructField('speed',        IntegerType(), True),\n",
    "    StructField('engine',       StringType(),  True)\n",
    "])\n",
    "\n",
    "schema_flights = StructType([\n",
    "    StructField('year',      IntegerType(), True),\n",
    "    StructField('month',     IntegerType(), True),\n",
    "    StructField('day',       IntegerType(), True),\n",
    "    StructField('dep_time',  StringType(),  True),\n",
    "    StructField('dep_delay', IntegerType(), True),\n",
    "    StructField('arr_time',  StringType(),  True),\n",
    "    StructField('arr_delay', IntegerType(), True),\n",
    "    StructField('carrier',   StringType(),  True),\n",
    "    StructField('tailnum',   StringType(),  True),\n",
    "    StructField('flight',    StringType(),  True),\n",
    "    StructField('origin',    StringType(),  True),\n",
    "    StructField('dest',      StringType(),  True),\n",
    "    StructField('air_time',  IntegerType(), True),\n",
    "    StructField('distance',  IntegerType(), True),\n",
    "    StructField('hour',      IntegerType(), True),\n",
    "    StructField('minute',    IntegerType(), True),\n",
    "])"
   ]
  },
  {
   "cell_type": "code",
   "execution_count": 6,
   "id": "7a264705",
   "metadata": {},
   "outputs": [],
   "source": [
    "df_airports = (spark.getOrCreate().read\n",
    "                  .format('csv')\n",
    "                  .option('header', 'true')\n",
    "                  .schema(schema_airports)\n",
    "                  .load('airports.csv'))\n",
    "\n",
    "df_planes = (spark.getOrCreate().read\n",
    "                  .format('csv')\n",
    "                  .option('header', 'true')\n",
    "                  .schema(schema_planes)\n",
    "                  .load('planes.csv'))\n",
    "\n",
    "df_flights = (spark.getOrCreate().read\n",
    "                  .format('csv')\n",
    "                  .option('header', 'true')\n",
    "                  .schema(schema_flights)\n",
    "                  .load('flights.csv'))"
   ]
  },
  {
   "cell_type": "markdown",
   "id": "c9d215ec",
   "metadata": {},
   "source": [
    "# AIRPORTS DATASET"
   ]
  },
  {
   "cell_type": "code",
   "execution_count": 7,
   "id": "2802e22e",
   "metadata": {},
   "outputs": [
    {
     "name": "stdout",
     "output_type": "stream",
     "text": [
      "+---+--------------------+---------+-----------+----+---+---+\n",
      "|faa|                name|      lat|        lon| alt| tz|dst|\n",
      "+---+--------------------+---------+-----------+----+---+---+\n",
      "|04G|   Lansdowne Airport|41.130474|  -80.61958|1044| -5|  A|\n",
      "|06A|Moton Field Munic...| 32.46057|  -85.68003| 264| -5|  A|\n",
      "|06C| Schaumburg Regional| 41.98934|  -88.10124| 801| -6|  A|\n",
      "|06N|     Randall Airport| 41.43191|  -74.39156| 523| -5|  A|\n",
      "|09J|Jekyll Island Air...|31.074472|  -81.42778|  11| -4|  A|\n",
      "|0A9|Elizabethton Muni...|36.371223| -82.173416|1593| -4|  A|\n",
      "|0G6|Williams County A...|41.467304| -84.506775| 730| -5|  A|\n",
      "|0G7|Finger Lakes Regi...|42.883564| -76.781235| 492| -5|  A|\n",
      "|0P2|Shoestring Aviati...|39.794823| -76.647194|1000| -5|  U|\n",
      "|0S9|Jefferson County ...| 48.05381|-122.810646| 108| -8|  A|\n",
      "|0W3|Harford County Ai...|39.566837|   -76.2024| 409| -5|  A|\n",
      "|10C|  Galt Field Airport| 42.40289| -88.375114| 875| -6|  U|\n",
      "|17G|Port Bucyrus-Craw...|40.781555|  -82.97481|1003| -5|  A|\n",
      "|19A|Jackson County Ai...|34.175865|   -83.5616| 951| -4|  U|\n",
      "|1A3|Martin Campbell F...|35.015804|  -84.34683|1789| -4|  A|\n",
      "|1B9| Mansfield Municipal|42.000134|  -71.19677| 122| -5|  A|\n",
      "|1C9|Frazier Lake Airpark|54.013332| -124.76833| 152| -8|  A|\n",
      "|1CS|Clow Internationa...|41.695976| -88.129234| 670| -6|  U|\n",
      "|1G3|  Kent State Airport| 41.15139|  -81.41511|1134| -4|  A|\n",
      "|1OH|     Fortman Airport|40.555325|  -84.38662| 885| -5|  U|\n",
      "+---+--------------------+---------+-----------+----+---+---+\n",
      "only showing top 20 rows\n",
      "\n"
     ]
    }
   ],
   "source": [
    "df_airports.show()"
   ]
  },
  {
   "cell_type": "markdown",
   "id": "55715815",
   "metadata": {},
   "source": [
    "# Pergunta 1"
   ]
  },
  {
   "cell_type": "code",
   "execution_count": 8,
   "id": "9b29d65e",
   "metadata": {},
   "outputs": [],
   "source": [
    "airports_qa = df_airports.withColumn('qa_faa', F.when(F.col('faa').isNull(), 'M')\n",
    "                                                .when(F.length(F.col('faa')).between(3,5), 'F')                                               \n",
    "                                    )"
   ]
  },
  {
   "cell_type": "code",
   "execution_count": 9,
   "id": "021edda5",
   "metadata": {},
   "outputs": [
    {
     "name": "stdout",
     "output_type": "stream",
     "text": [
      "+-------------+------+\n",
      "|count(qa_faa)|qa_faa|\n",
      "+-------------+------+\n",
      "|         1397|     F|\n",
      "+-------------+------+\n",
      "\n"
     ]
    }
   ],
   "source": [
    "airports_qa.createOrReplaceTempView('airports_qa')\n",
    "\n",
    "spark.getOrCreate().sql(\"select count(qa_faa), qa_faa from airports_qa group by 2\").show()"
   ]
  },
  {
   "cell_type": "markdown",
   "id": "0eb328bc",
   "metadata": {},
   "source": [
    "# Pergunta 2"
   ]
  },
  {
   "cell_type": "code",
   "execution_count": 10,
   "id": "22d89029",
   "metadata": {},
   "outputs": [],
   "source": [
    "airports_qa = airports_qa.withColumn('qa_name', F.when(F.col('name').isNull(), 'M'))"
   ]
  },
  {
   "cell_type": "code",
   "execution_count": 11,
   "id": "aaf5020d",
   "metadata": {},
   "outputs": [
    {
     "name": "stdout",
     "output_type": "stream",
     "text": [
      "+--------------+-------+\n",
      "|count(qa_name)|qa_name|\n",
      "+--------------+-------+\n",
      "|             0|   null|\n",
      "+--------------+-------+\n",
      "\n"
     ]
    }
   ],
   "source": [
    "airports_qa.createOrReplaceTempView('airports_qa')\n",
    "\n",
    "spark.getOrCreate().sql(\"select count(qa_name), qa_name from airports_qa group by 2\").show()"
   ]
  },
  {
   "cell_type": "markdown",
   "id": "a7214d8e",
   "metadata": {},
   "source": [
    "# Pergunta 3"
   ]
  },
  {
   "cell_type": "code",
   "execution_count": 12,
   "id": "4a726ac5",
   "metadata": {},
   "outputs": [],
   "source": [
    "airports_qa = airports_qa.withColumn('qa_lat', F.when(F.col('lat').isNull(), 'M')\n",
    "                                                .when(F.col('lat').between(-180, 180), 'I')\n",
    "                                                .when(F.col('lat').rlike('r[0-9a-zA-Z]+'), 'A')\n",
    "                                    )"
   ]
  },
  {
   "cell_type": "code",
   "execution_count": 13,
   "id": "ce10133f",
   "metadata": {},
   "outputs": [
    {
     "name": "stdout",
     "output_type": "stream",
     "text": [
      "+-------------+------+\n",
      "|count(qa_lat)|qa_lat|\n",
      "+-------------+------+\n",
      "|         1397|     I|\n",
      "+-------------+------+\n",
      "\n"
     ]
    }
   ],
   "source": [
    "airports_qa.createOrReplaceTempView('airports_qa')\n",
    "\n",
    "spark.getOrCreate().sql(\"select count(qa_lat), qa_lat from airports_qa group by 2\").show()"
   ]
  },
  {
   "cell_type": "markdown",
   "id": "3f945545",
   "metadata": {},
   "source": [
    "# Pergunta 4"
   ]
  },
  {
   "cell_type": "code",
   "execution_count": 14,
   "id": "78140498",
   "metadata": {},
   "outputs": [],
   "source": [
    "airports_qa = airports_qa.withColumn('qa_lon', F.when(F.col('lon').isNull(), 'M')\n",
    "                                                .when(F.col('lon').between(-180, 180), 'I')\n",
    "                                                .when(F.col('lon').rlike('r[0-9a-zA-Z]+'), 'A')\n",
    "                                    )"
   ]
  },
  {
   "cell_type": "code",
   "execution_count": 15,
   "id": "fe23be66",
   "metadata": {},
   "outputs": [
    {
     "name": "stdout",
     "output_type": "stream",
     "text": [
      "+-------------+------+\n",
      "|count(qa_lon)|qa_lon|\n",
      "+-------------+------+\n",
      "|         1397|     I|\n",
      "+-------------+------+\n",
      "\n",
      "+---+--------------------+---------+---------+----+---+---+------+-------+------+------+\n",
      "|faa|                name|      lat|      lon| alt| tz|dst|qa_faa|qa_name|qa_lat|qa_lon|\n",
      "+---+--------------------+---------+---------+----+---+---+------+-------+------+------+\n",
      "|04G|   Lansdowne Airport|41.130474|-80.61958|1044| -5|  A|     F|   null|     I|     I|\n",
      "|06A|Moton Field Munic...| 32.46057|-85.68003| 264| -5|  A|     F|   null|     I|     I|\n",
      "|06C| Schaumburg Regional| 41.98934|-88.10124| 801| -6|  A|     F|   null|     I|     I|\n",
      "|06N|     Randall Airport| 41.43191|-74.39156| 523| -5|  A|     F|   null|     I|     I|\n",
      "|09J|Jekyll Island Air...|31.074472|-81.42778|  11| -4|  A|     F|   null|     I|     I|\n",
      "+---+--------------------+---------+---------+----+---+---+------+-------+------+------+\n",
      "only showing top 5 rows\n",
      "\n"
     ]
    }
   ],
   "source": [
    "airports_qa.createOrReplaceTempView('airports_qa')\n",
    "\n",
    "spark.getOrCreate().sql(\"select count(qa_lon), qa_lon from airports_qa group by 2\").show()\n",
    "\n",
    "airports_qa.show(5)"
   ]
  },
  {
   "cell_type": "markdown",
   "id": "3bc82d05",
   "metadata": {},
   "source": [
    "# Pergunta 5"
   ]
  },
  {
   "cell_type": "code",
   "execution_count": 16,
   "id": "10c1ca7e",
   "metadata": {},
   "outputs": [],
   "source": [
    "airports_qa = airports_qa.withColumn('qa_alt', F.when(F.col('alt').isNull(), 'M')\n",
    "                                                .when(F.col('alt')<0, 'I')\n",
    "                                                .when(F.col('alt').rlike('r[0-9a-zA-Z]+'), 'A')\n",
    "                                    )"
   ]
  },
  {
   "cell_type": "code",
   "execution_count": 17,
   "id": "437a76ef",
   "metadata": {},
   "outputs": [
    {
     "name": "stdout",
     "output_type": "stream",
     "text": [
      "+-------------+------+\n",
      "|count(qa_alt)|qa_alt|\n",
      "+-------------+------+\n",
      "|            0|  null|\n",
      "|            2|     I|\n",
      "+-------------+------+\n",
      "\n",
      "+---+--------------------+---------+---------+----+---+---+------+-------+------+------+------+\n",
      "|faa|                name|      lat|      lon| alt| tz|dst|qa_faa|qa_name|qa_lat|qa_lon|qa_alt|\n",
      "+---+--------------------+---------+---------+----+---+---+------+-------+------+------+------+\n",
      "|04G|   Lansdowne Airport|41.130474|-80.61958|1044| -5|  A|     F|   null|     I|     I|  null|\n",
      "|06A|Moton Field Munic...| 32.46057|-85.68003| 264| -5|  A|     F|   null|     I|     I|  null|\n",
      "|06C| Schaumburg Regional| 41.98934|-88.10124| 801| -6|  A|     F|   null|     I|     I|  null|\n",
      "|06N|     Randall Airport| 41.43191|-74.39156| 523| -5|  A|     F|   null|     I|     I|  null|\n",
      "|09J|Jekyll Island Air...|31.074472|-81.42778|  11| -4|  A|     F|   null|     I|     I|  null|\n",
      "+---+--------------------+---------+---------+----+---+---+------+-------+------+------+------+\n",
      "only showing top 5 rows\n",
      "\n"
     ]
    }
   ],
   "source": [
    "airports_qa.createOrReplaceTempView('airports_qa')\n",
    "\n",
    "spark.getOrCreate().sql(\"select count(qa_alt), qa_alt from airports_qa group by 2\").show()\n",
    "\n",
    "airports_qa.show(5)"
   ]
  },
  {
   "cell_type": "markdown",
   "id": "b5be864e",
   "metadata": {},
   "source": [
    "#  Pergunta 6"
   ]
  },
  {
   "cell_type": "code",
   "execution_count": 18,
   "id": "52d1d3c7",
   "metadata": {},
   "outputs": [],
   "source": [
    "airports_qa = airports_qa.withColumn('qa_tz', F.when(F.col('tz').isNull(), 'M')\n",
    "                                               .when(~F.col('tz').between(-11,14), 'I')\n",
    "                                               .when(F.col('tz').rlike('r[0-9a-zA-Z]+'), 'A')\n",
    "                                    )"
   ]
  },
  {
   "cell_type": "code",
   "execution_count": 19,
   "id": "00fe4418",
   "metadata": {},
   "outputs": [
    {
     "name": "stdout",
     "output_type": "stream",
     "text": [
      "+------------+-----+\n",
      "|count(qa_tz)|qa_tz|\n",
      "+------------+-----+\n",
      "|           0| null|\n",
      "+------------+-----+\n",
      "\n",
      "+---+--------------------+---------+---------+----+---+---+------+-------+------+------+------+-----+\n",
      "|faa|                name|      lat|      lon| alt| tz|dst|qa_faa|qa_name|qa_lat|qa_lon|qa_alt|qa_tz|\n",
      "+---+--------------------+---------+---------+----+---+---+------+-------+------+------+------+-----+\n",
      "|04G|   Lansdowne Airport|41.130474|-80.61958|1044| -5|  A|     F|   null|     I|     I|  null| null|\n",
      "|06A|Moton Field Munic...| 32.46057|-85.68003| 264| -5|  A|     F|   null|     I|     I|  null| null|\n",
      "|06C| Schaumburg Regional| 41.98934|-88.10124| 801| -6|  A|     F|   null|     I|     I|  null| null|\n",
      "|06N|     Randall Airport| 41.43191|-74.39156| 523| -5|  A|     F|   null|     I|     I|  null| null|\n",
      "|09J|Jekyll Island Air...|31.074472|-81.42778|  11| -4|  A|     F|   null|     I|     I|  null| null|\n",
      "+---+--------------------+---------+---------+----+---+---+------+-------+------+------+------+-----+\n",
      "only showing top 5 rows\n",
      "\n"
     ]
    }
   ],
   "source": [
    "airports_qa.createOrReplaceTempView('airports_qa')\n",
    "\n",
    "spark.getOrCreate().sql(\"select count(qa_tz), qa_tz from airports_qa group by 2\").show()\n",
    "\n",
    "airports_qa.show(5)"
   ]
  },
  {
   "cell_type": "markdown",
   "id": "77240369",
   "metadata": {},
   "source": [
    "# Pergunta 7"
   ]
  },
  {
   "cell_type": "code",
   "execution_count": 20,
   "id": "41340ae5",
   "metadata": {},
   "outputs": [],
   "source": [
    "airports_qa = airports_qa.withColumn('qa_dst', F.when(F.col('dst').isNull(), 'M')\n",
    "                                                .when(~F.col('dst').isin('E', 'A', 'S', 'O', 'Z', 'N', 'U'), 'C')\n",
    "                                                .when(F.col('dst').rlike('r[0-9]+'), 'N')   \n",
    "                                    )"
   ]
  },
  {
   "cell_type": "code",
   "execution_count": 21,
   "id": "154fd53d",
   "metadata": {},
   "outputs": [
    {
     "name": "stdout",
     "output_type": "stream",
     "text": [
      "+-------------+------+\n",
      "|count(qa_dst)|qa_dst|\n",
      "+-------------+------+\n",
      "|            0|  null|\n",
      "+-------------+------+\n",
      "\n",
      "+---+--------------------+---------+---------+----+---+---+------+-------+------+------+------+-----+------+\n",
      "|faa|                name|      lat|      lon| alt| tz|dst|qa_faa|qa_name|qa_lat|qa_lon|qa_alt|qa_tz|qa_dst|\n",
      "+---+--------------------+---------+---------+----+---+---+------+-------+------+------+------+-----+------+\n",
      "|04G|   Lansdowne Airport|41.130474|-80.61958|1044| -5|  A|     F|   null|     I|     I|  null| null|  null|\n",
      "|06A|Moton Field Munic...| 32.46057|-85.68003| 264| -5|  A|     F|   null|     I|     I|  null| null|  null|\n",
      "|06C| Schaumburg Regional| 41.98934|-88.10124| 801| -6|  A|     F|   null|     I|     I|  null| null|  null|\n",
      "|06N|     Randall Airport| 41.43191|-74.39156| 523| -5|  A|     F|   null|     I|     I|  null| null|  null|\n",
      "|09J|Jekyll Island Air...|31.074472|-81.42778|  11| -4|  A|     F|   null|     I|     I|  null| null|  null|\n",
      "+---+--------------------+---------+---------+----+---+---+------+-------+------+------+------+-----+------+\n",
      "only showing top 5 rows\n",
      "\n"
     ]
    }
   ],
   "source": [
    "airports_qa.createOrReplaceTempView('airports_qa')\n",
    "\n",
    "spark.getOrCreate().sql(\"select count(qa_dst), qa_dst from airports_qa group by 2\").show()\n",
    "\n",
    "airports_qa.show(5)"
   ]
  },
  {
   "cell_type": "markdown",
   "id": "87ee7688",
   "metadata": {},
   "source": [
    "# PLANES DATASET"
   ]
  },
  {
   "cell_type": "markdown",
   "id": "05b19ef3",
   "metadata": {},
   "source": [
    "# Pergunta 1"
   ]
  },
  {
   "cell_type": "code",
   "execution_count": 22,
   "id": "633dd938",
   "metadata": {},
   "outputs": [],
   "source": [
    "planes_qa = df_planes.withColumn('qa_tailnum', F.when(F.col('tailnum').isNull(), 'M')\n",
    "                                                .when(F.length(F.col('tailnum'))!=5 , 'S')  \n",
    "                                                .when(F.col('tailnum').rlike('^N([1-9])\\d{3}[^IO]'), 'F')\n",
    "                                                .when(F.col('tailnum').rlike('^N([1-9])\\d{2}[^IO][^IO]'), 'F')\n",
    "                                                .when(~F.col('tailnum').rlike('^N.*'), 'FN')\n",
    "                                                .when(F.col('tailnum').rlike('^[IO0]') == True, 'FE')\n",
    "                                 )"
   ]
  },
  {
   "cell_type": "code",
   "execution_count": 23,
   "id": "9e9c9de1",
   "metadata": {},
   "outputs": [
    {
     "name": "stdout",
     "output_type": "stream",
     "text": [
      "+-----------------+----------+\n",
      "|count(qa_tailnum)|qa_tailnum|\n",
      "+-----------------+----------+\n",
      "|                0|      null|\n",
      "|             2609|         S|\n",
      "+-----------------+----------+\n",
      "\n",
      "+-------+----+--------------------+----------------+--------+-------+-----+-----+---------+----------+\n",
      "|tailnum|year|                type|    manufacturer|   model|engines|seats|speed|   engine|qa_tailnum|\n",
      "+-------+----+--------------------+----------------+--------+-------+-----+-----+---------+----------+\n",
      "| N102UW|1998|Fixed wing multi ...|AIRBUS INDUSTRIE|A320-214|      2|  182| null|Turbo-fan|         S|\n",
      "| N103US|1999|Fixed wing multi ...|AIRBUS INDUSTRIE|A320-214|      2|  182| null|Turbo-fan|         S|\n",
      "| N104UW|1999|Fixed wing multi ...|AIRBUS INDUSTRIE|A320-214|      2|  182| null|Turbo-fan|         S|\n",
      "| N105UW|1999|Fixed wing multi ...|AIRBUS INDUSTRIE|A320-214|      2|  182| null|Turbo-fan|         S|\n",
      "| N107US|1999|Fixed wing multi ...|AIRBUS INDUSTRIE|A320-214|      2|  182| null|Turbo-fan|         S|\n",
      "+-------+----+--------------------+----------------+--------+-------+-----+-----+---------+----------+\n",
      "only showing top 5 rows\n",
      "\n"
     ]
    }
   ],
   "source": [
    "planes_qa.createOrReplaceTempView('planes_qa')\n",
    "\n",
    "spark.getOrCreate().sql(\"select count(qa_tailnum), qa_tailnum from planes_qa group by 2\").show()\n",
    "\n",
    "planes_qa.show(5)"
   ]
  },
  {
   "cell_type": "markdown",
   "id": "04d008f9",
   "metadata": {},
   "source": [
    "# Pergunta 2"
   ]
  },
  {
   "cell_type": "code",
   "execution_count": 24,
   "id": "79655a11",
   "metadata": {},
   "outputs": [],
   "source": [
    "planes_qa = planes_qa.withColumn('qa_year', F.when(F.col('year') == 'NA' , 'M')\n",
    "                                             .when(F.col('year') <= 1950 , 'I')          \n",
    "                                )"
   ]
  },
  {
   "cell_type": "code",
   "execution_count": 25,
   "id": "2f30e626",
   "metadata": {},
   "outputs": [
    {
     "name": "stdout",
     "output_type": "stream",
     "text": [
      "+--------------+-------+\n",
      "|count(qa_year)|qa_year|\n",
      "+--------------+-------+\n",
      "|             0|   null|\n",
      "|             1|      I|\n",
      "+--------------+-------+\n",
      "\n",
      "+-------+----+--------------------+----------------+--------+-------+-----+-----+---------+----------+-------+\n",
      "|tailnum|year|                type|    manufacturer|   model|engines|seats|speed|   engine|qa_tailnum|qa_year|\n",
      "+-------+----+--------------------+----------------+--------+-------+-----+-----+---------+----------+-------+\n",
      "| N102UW|1998|Fixed wing multi ...|AIRBUS INDUSTRIE|A320-214|      2|  182| null|Turbo-fan|         S|   null|\n",
      "| N103US|1999|Fixed wing multi ...|AIRBUS INDUSTRIE|A320-214|      2|  182| null|Turbo-fan|         S|   null|\n",
      "| N104UW|1999|Fixed wing multi ...|AIRBUS INDUSTRIE|A320-214|      2|  182| null|Turbo-fan|         S|   null|\n",
      "| N105UW|1999|Fixed wing multi ...|AIRBUS INDUSTRIE|A320-214|      2|  182| null|Turbo-fan|         S|   null|\n",
      "| N107US|1999|Fixed wing multi ...|AIRBUS INDUSTRIE|A320-214|      2|  182| null|Turbo-fan|         S|   null|\n",
      "+-------+----+--------------------+----------------+--------+-------+-----+-----+---------+----------+-------+\n",
      "only showing top 5 rows\n",
      "\n"
     ]
    }
   ],
   "source": [
    "planes_qa.createOrReplaceTempView('planes_qa')\n",
    "\n",
    "spark.getOrCreate().sql(\"select count(qa_year), qa_year from planes_qa group by 2\").show()\n",
    "\n",
    "planes_qa.show(5)"
   ]
  },
  {
   "cell_type": "markdown",
   "id": "bb80f629",
   "metadata": {},
   "source": [
    "# Pergunta 3"
   ]
  },
  {
   "cell_type": "code",
   "execution_count": 26,
   "id": "dc97c21f",
   "metadata": {},
   "outputs": [],
   "source": [
    "categorias = ['Fixed wing multi engine','Fixed wing single engine','Rotorcraft']\n",
    "\n",
    "planes_qa = planes_qa.withColumn('qa_type', F.when(F.col('type').isNull(), 'M')\n",
    "                                             .when(~F.col('type').isin(categorias), 'C')                                \n",
    "                                )"
   ]
  },
  {
   "cell_type": "code",
   "execution_count": 27,
   "id": "9da26ead",
   "metadata": {
    "scrolled": true
   },
   "outputs": [
    {
     "name": "stdout",
     "output_type": "stream",
     "text": [
      "+--------------+-------+\n",
      "|count(qa_type)|qa_type|\n",
      "+--------------+-------+\n",
      "|             0|   null|\n",
      "+--------------+-------+\n",
      "\n",
      "+-------+----+--------------------+----------------+--------+-------+-----+-----+---------+----------+-------+-------+\n",
      "|tailnum|year|                type|    manufacturer|   model|engines|seats|speed|   engine|qa_tailnum|qa_year|qa_type|\n",
      "+-------+----+--------------------+----------------+--------+-------+-----+-----+---------+----------+-------+-------+\n",
      "| N102UW|1998|Fixed wing multi ...|AIRBUS INDUSTRIE|A320-214|      2|  182| null|Turbo-fan|         S|   null|   null|\n",
      "| N103US|1999|Fixed wing multi ...|AIRBUS INDUSTRIE|A320-214|      2|  182| null|Turbo-fan|         S|   null|   null|\n",
      "| N104UW|1999|Fixed wing multi ...|AIRBUS INDUSTRIE|A320-214|      2|  182| null|Turbo-fan|         S|   null|   null|\n",
      "| N105UW|1999|Fixed wing multi ...|AIRBUS INDUSTRIE|A320-214|      2|  182| null|Turbo-fan|         S|   null|   null|\n",
      "| N107US|1999|Fixed wing multi ...|AIRBUS INDUSTRIE|A320-214|      2|  182| null|Turbo-fan|         S|   null|   null|\n",
      "+-------+----+--------------------+----------------+--------+-------+-----+-----+---------+----------+-------+-------+\n",
      "only showing top 5 rows\n",
      "\n"
     ]
    }
   ],
   "source": [
    "planes_qa.createOrReplaceTempView('planes_qa')\n",
    "\n",
    "spark.getOrCreate().sql(\"select count(qa_type), qa_type from planes_qa group by 2\").show()\n",
    "\n",
    "planes_qa.show(5)"
   ]
  },
  {
   "cell_type": "markdown",
   "id": "0995c2bf",
   "metadata": {},
   "source": [
    "# Pergunta 4"
   ]
  },
  {
   "cell_type": "code",
   "execution_count": 28,
   "id": "085c3ea9",
   "metadata": {},
   "outputs": [],
   "source": [
    "Manufacturer = ['AIRBUS','BOEING','BOMBARDIER','CESSNA','EMBRAER','SIKORSKY', 'CANADAIR', 'PIPER', 'MCDONNELL DOUGLAS', 'CIRRUS', 'BELL', 'KILDALL GARY','LAMBERT RICHARD', 'BARKER JACK', 'ROBINSON HELICOPTER', 'GULFSTREAM', 'MARZ BARRY']\n",
    "\n",
    "planes_qa = planes_qa.withColumn('qa_manufacturer', F.when(F.col('manufacturer').isNull(), 'M')\n",
    "                                                     .when(~F.col('manufacturer').isin(Manufacturer), 'C')\n",
    "                                )\n"
   ]
  },
  {
   "cell_type": "code",
   "execution_count": 29,
   "id": "47a811f4",
   "metadata": {},
   "outputs": [
    {
     "name": "stdout",
     "output_type": "stream",
     "text": [
      "+----------------------+---------------+\n",
      "|count(qa_manufacturer)|qa_manufacturer|\n",
      "+----------------------+---------------+\n",
      "|                     0|           null|\n",
      "|                   621|              C|\n",
      "+----------------------+---------------+\n",
      "\n"
     ]
    }
   ],
   "source": [
    "planes_qa.createOrReplaceTempView('planes_qa')\n",
    "\n",
    "spark.getOrCreate().sql(\"select count(qa_manufacturer), qa_manufacturer from planes_qa group by 2\").show()\n"
   ]
  },
  {
   "cell_type": "markdown",
   "id": "520d5af9",
   "metadata": {},
   "source": [
    "# Pergunta 5"
   ]
  },
  {
   "cell_type": "code",
   "execution_count": 30,
   "id": "3ed72667",
   "metadata": {},
   "outputs": [],
   "source": [
    "planes_qa = planes_qa.withColumn('qa_model', F.when(F.col('model').isNull(), 'M')\n",
    "                                              .when((F.col('manufacturer') == 'BOEING') & (F.col('model').rlike('^7')==False), 'F') \n",
    "                                              .when((F.col('manufacturer') == 'AIRBUS') & (F.col('model').rlike('^A')==False), 'F')\n",
    "                                              .when((F.col('manufacturer').isin('BOMBARDIER', 'CANADAIR')) & (F.col('model').rlike('^CL')==False), 'F')\n",
    "                                              .when((F.col('manufacturer') == 'MCDONNELL DOUGLAS') & (F.col('model').rlike('^(MD|DC)')==False), 'F')\n",
    "                                )"
   ]
  },
  {
   "cell_type": "code",
   "execution_count": 31,
   "id": "ab91289a",
   "metadata": {
    "scrolled": true
   },
   "outputs": [
    {
     "name": "stdout",
     "output_type": "stream",
     "text": [
      "+---------------+--------+\n",
      "|count(qa_model)|qa_model|\n",
      "+---------------+--------+\n",
      "|             15|       F|\n",
      "|              0|    null|\n",
      "+---------------+--------+\n",
      "\n"
     ]
    }
   ],
   "source": [
    "planes_qa.createOrReplaceTempView('planes_qa')\n",
    "\n",
    "spark.getOrCreate().sql(\"select count(qa_model), qa_model from planes_qa group by 2\").show()"
   ]
  },
  {
   "cell_type": "markdown",
   "id": "9895f2f2",
   "metadata": {},
   "source": [
    "# Pergunta 6"
   ]
  },
  {
   "cell_type": "code",
   "execution_count": 32,
   "id": "3acf756e",
   "metadata": {},
   "outputs": [
    {
     "name": "stdout",
     "output_type": "stream",
     "text": [
      "+-----------------+----------+\n",
      "|count(qa_engines)|qa_engines|\n",
      "+-----------------+----------+\n",
      "|                0|      null|\n",
      "+-----------------+----------+\n",
      "\n"
     ]
    }
   ],
   "source": [
    "planes_qa = planes_qa.withColumn('qa_engines', F.when(F.col('engines').isNull(), 'M')\n",
    "                                                .when(~F.col('engines').between(1,4), 'I') \n",
    "                                                .when(F.col('engines').rlike('r[0-9a-zA-Z]+'), 'A')\n",
    "                                )\n",
    "\n",
    "planes_qa.createOrReplaceTempView('planes_qa')\n",
    "\n",
    "spark.getOrCreate().sql(\"select count(qa_engines), qa_engines from planes_qa group by 2\").show()\n"
   ]
  },
  {
   "cell_type": "markdown",
   "id": "5592f121",
   "metadata": {},
   "source": [
    "# Pergunta 7"
   ]
  },
  {
   "cell_type": "code",
   "execution_count": 33,
   "id": "e231fac6",
   "metadata": {},
   "outputs": [
    {
     "name": "stdout",
     "output_type": "stream",
     "text": [
      "+---------------+--------+\n",
      "|count(qa_seats)|qa_seats|\n",
      "+---------------+--------+\n",
      "|              0|    null|\n",
      "+---------------+--------+\n",
      "\n"
     ]
    }
   ],
   "source": [
    "planes_qa = planes_qa.withColumn('qa_seats', F.when(F.col('seats').isNull(), 'M')\n",
    "                                              .when(~F.col('seats').between(2, 500), 'I') \n",
    "                                              .when(F.col('seats').rlike('r[0-9a-zA-Z]+'), 'A')\n",
    "                                )\n",
    "\n",
    "planes_qa.createOrReplaceTempView('planes_qa')\n",
    "\n",
    "spark.getOrCreate().sql(\"select count(qa_seats), qa_seats from planes_qa group by 2\").show()"
   ]
  },
  {
   "cell_type": "markdown",
   "id": "f043f023",
   "metadata": {},
   "source": [
    "# Pergunta 8"
   ]
  },
  {
   "cell_type": "code",
   "execution_count": 34,
   "id": "c76ba2c8",
   "metadata": {},
   "outputs": [
    {
     "name": "stdout",
     "output_type": "stream",
     "text": [
      "+---------------+--------+\n",
      "|count(qa_speed)|qa_speed|\n",
      "+---------------+--------+\n",
      "|              0|    null|\n",
      "+---------------+--------+\n",
      "\n"
     ]
    }
   ],
   "source": [
    "planes_qa = planes_qa.withColumn('qa_speed', F.when(F.col('speed')=='NA', 'M')\n",
    "                                              .when(~F.col('speed').between(50,150), 'I')\n",
    "                                              .when(F.col('speed').rlike('r[0-9a-zA-Z]+'), 'A')\n",
    "                                )\n",
    "\n",
    "\n",
    "planes_qa.createOrReplaceTempView('planes_qa')\n",
    "\n",
    "spark.getOrCreate().sql(\"select count(qa_speed), qa_speed from planes_qa group by 2\").show()"
   ]
  },
  {
   "cell_type": "markdown",
   "id": "5b924635",
   "metadata": {},
   "source": [
    "# Pergunta 9"
   ]
  },
  {
   "cell_type": "code",
   "execution_count": 35,
   "id": "a2c46df2",
   "metadata": {},
   "outputs": [
    {
     "name": "stdout",
     "output_type": "stream",
     "text": [
      "+----------------+---------+\n",
      "|count(qa_engine)|qa_engine|\n",
      "+----------------+---------+\n",
      "|               0|     null|\n",
      "|              10|        C|\n",
      "+----------------+---------+\n",
      "\n"
     ]
    }
   ],
   "source": [
    "planes_qa = planes_qa.withColumn('qa_engine', F.when(F.col('engine').isNull(), 'M')\n",
    "                                               .when(~F.col('engine').isin('Turbo-fan', 'Turbo-jet', 'Turbo-prop', 'Turbo-shaft', '4 Cycle'), 'C') \n",
    "                                )\n",
    "\n",
    "planes_qa.createOrReplaceTempView('planes_qa')\n",
    "\n",
    "spark.getOrCreate().sql(\"select count(qa_engine), qa_engine from planes_qa group by 2\").show()"
   ]
  },
  {
   "cell_type": "markdown",
   "id": "cce14897",
   "metadata": {},
   "source": [
    "# FLIGHTS DATASET"
   ]
  },
  {
   "cell_type": "markdown",
   "id": "59f3f5ca",
   "metadata": {},
   "source": [
    "# Pergunta 1"
   ]
  },
  {
   "cell_type": "code",
   "execution_count": 36,
   "id": "eb18c463",
   "metadata": {},
   "outputs": [
    {
     "name": "stdout",
     "output_type": "stream",
     "text": [
      "+------------------------+-----------------+\n",
      "|count(qa_year_month_day)|qa_year_month_day|\n",
      "+------------------------+-----------------+\n",
      "|                       0|             null|\n",
      "+------------------------+-----------------+\n",
      "\n"
     ]
    }
   ],
   "source": [
    "flights_qa = df_flights.withColumn('qa_year_month_day', F.when(F.col('year').isNull(), 'MY')\n",
    "                                                         .when(F.col('month').isNull(), 'MM')\n",
    "                                                         .when(F.col('day').isNull(), 'MD')\n",
    "                                                         .when(F.col('year') < 1950, 'IY')\n",
    "                                                         .when(~F.col('month').between(1,12), 'IM')\n",
    "                                                         .when(((F.col('month') != 2) & (F.col('day') > 31)) | ((F.col('month') == 2) & (F.col('day') > 29)), 'ID')\n",
    "                                  )\n",
    "\n",
    "\n",
    "flights_qa.createOrReplaceTempView('flights_qa')\n",
    "\n",
    "spark.getOrCreate().sql(\"select count(qa_year_month_day), qa_year_month_day from flights_qa group by 2\").show()"
   ]
  },
  {
   "cell_type": "markdown",
   "id": "a0e9e7c5",
   "metadata": {},
   "source": [
    "# Pergunta 2"
   ]
  },
  {
   "cell_type": "code",
   "execution_count": 37,
   "id": "b42fc2e3",
   "metadata": {},
   "outputs": [
    {
     "name": "stdout",
     "output_type": "stream",
     "text": [
      "+---------------------+--------------+\n",
      "|count(qa_hour_minute)|qa_hour_minute|\n",
      "+---------------------+--------------+\n",
      "|                    0|          null|\n",
      "+---------------------+--------------+\n",
      "\n"
     ]
    }
   ],
   "source": [
    "flights_qa = flights_qa.withColumn('qa_hour_minute', F.when(F.col('hour')=='NA', 'MH')\n",
    "                                                      .when(F.col('minute')=='NA', 'MM')\n",
    "                                                      .when(~F.col('hour').between(0,24), 'IH')\n",
    "                                                      .when(~F.col('minute').between(0,59), 'IM')                                  \n",
    "                                  )\n",
    "\n",
    "\n",
    "flights_qa.createOrReplaceTempView('flights_qa')\n",
    "\n",
    "spark.getOrCreate().sql(\"select count(qa_hour_minute), qa_hour_minute from flights_qa group by 2\").show()"
   ]
  },
  {
   "cell_type": "markdown",
   "id": "08ebbf47",
   "metadata": {},
   "source": [
    "# Pergunta 3"
   ]
  },
  {
   "cell_type": "code",
   "execution_count": 38,
   "id": "dd0a9357",
   "metadata": {},
   "outputs": [
    {
     "name": "stdout",
     "output_type": "stream",
     "text": [
      "+-----------------+----------+\n",
      "|count(qa_dep_arr)|qa_dep_arr|\n",
      "+-----------------+----------+\n",
      "|                0|      null|\n",
      "|               48|        MD|\n",
      "|              151|        FA|\n",
      "|                7|        MA|\n",
      "|               90|        FD|\n",
      "+-----------------+----------+\n",
      "\n"
     ]
    }
   ],
   "source": [
    "flights_qa = flights_qa.withColumn('qa_dep_arr', F.when(F.col('dep_time')=='NA', 'MD')\n",
    "                                                  .when(F.col('arr_time')=='NA', 'MA')\n",
    "                                                  .when(~F.col('dep_time').rlike('^([0-9]|1[0-9]|2[0-3])[0-5][0-9]$'), 'FD')\n",
    "                                                  .when(~F.col('arr_time').rlike('^([0-9]|1[0-9]|2[0-3])[0-5][0-9]$'), 'FA')                                    \n",
    "                                  )\n",
    "\n",
    "flights_qa.createOrReplaceTempView('flights_qa')\n",
    "\n",
    "spark.getOrCreate().sql(\"select count(qa_dep_arr), qa_dep_arr from flights_qa group by 2\").show()\n"
   ]
  },
  {
   "cell_type": "markdown",
   "id": "423fefe4",
   "metadata": {},
   "source": [
    "# Pergunta 4"
   ]
  },
  {
   "cell_type": "code",
   "execution_count": 39,
   "id": "5b3c8509",
   "metadata": {},
   "outputs": [
    {
     "name": "stdout",
     "output_type": "stream",
     "text": [
      "+-----------------------+----------------+\n",
      "|count(qa_dep_arr_delay)|qa_dep_arr_delay|\n",
      "+-----------------------+----------------+\n",
      "|                      0|            null|\n",
      "|                     48|              MD|\n",
      "|                     27|              MA|\n",
      "+-----------------------+----------------+\n",
      "\n"
     ]
    }
   ],
   "source": [
    "flights_qa = flights_qa.withColumn('qa_dep_arr_delay', F.when(F.col('dep_delay').isNull(), 'MD')\n",
    "                                                        .when(F.col('arr_delay').isNull(), 'MA')                                   \n",
    "                                  )\n",
    "\n",
    "flights_qa.createOrReplaceTempView('flights_qa')\n",
    "\n",
    "spark.getOrCreate().sql(\"select count(qa_dep_arr_delay), qa_dep_arr_delay from flights_qa group by 2\").show(5)"
   ]
  },
  {
   "cell_type": "markdown",
   "id": "7fa90582",
   "metadata": {},
   "source": [
    "# Pergunta 5"
   ]
  },
  {
   "cell_type": "code",
   "execution_count": 40,
   "id": "19d073fa",
   "metadata": {},
   "outputs": [
    {
     "name": "stdout",
     "output_type": "stream",
     "text": [
      "+-----------------+----------+-------+\n",
      "|count(qa_carrier)|qa_carrier|carrier|\n",
      "+-----------------+----------+-------+\n",
      "|                0|      null|     UA|\n",
      "|                0|      null|     AA|\n",
      "|                0|      null|     B6|\n",
      "|                0|      null|     DL|\n",
      "|                0|      null|     OO|\n",
      "+-----------------+----------+-------+\n",
      "only showing top 5 rows\n",
      "\n"
     ]
    }
   ],
   "source": [
    "flights_qa = flights_qa.withColumn('qa_carrier', F.when(F.col('carrier').isNull(), 'M')\n",
    "                                                  .when(F.col('carrier').rlike('^[0-9]*$'), 'F')\n",
    "                                  )\n",
    "\n",
    "\n",
    "flights_qa.createOrReplaceTempView('flights_qa')\n",
    "\n",
    "spark.getOrCreate().sql(\"select count(qa_carrier), qa_carrier, carrier from flights_qa group by 2, 3\").show(5)"
   ]
  },
  {
   "cell_type": "markdown",
   "id": "836a8aaa",
   "metadata": {},
   "source": [
    "# Pergunta 6"
   ]
  },
  {
   "cell_type": "code",
   "execution_count": 41,
   "id": "21a0e620",
   "metadata": {},
   "outputs": [
    {
     "name": "stdout",
     "output_type": "stream",
     "text": [
      "+-----------------+----------+-------+\n",
      "|count(qa_tailnum)|qa_tailnum|tailnum|\n",
      "+-----------------+----------+-------+\n",
      "|                1|         F| N13248|\n",
      "|                2|         F| N39475|\n",
      "|                1|         F| N37255|\n",
      "|                3|         F| N39418|\n",
      "|                1|         F| N71411|\n",
      "|                5|         F| N38417|\n",
      "|                4|         F| N36447|\n",
      "|                2|         F| N78438|\n",
      "|                1|         F| N3GPAA|\n",
      "|                4|         F| N16234|\n",
      "|                2|         F| N3HUAA|\n",
      "|                3|         F| N3DFAA|\n",
      "|                1|         F| N54241|\n",
      "|                1|         F| N77261|\n",
      "|                1|         F| N3BLAA|\n",
      "|                2|         F| N3FUAA|\n",
      "|                1|         F| N3EKAA|\n",
      "|                2|         F| N3GBAA|\n",
      "|                3|         F| N26226|\n",
      "|                1|         F| N3CTAA|\n",
      "+-----------------+----------+-------+\n",
      "only showing top 20 rows\n",
      "\n"
     ]
    }
   ],
   "source": [
    "flights_qa = flights_qa.withColumn('qa_tailnum', F.when(F.col('tailnum') == 'NA', 'M')\n",
    "                                              .when(F.length(F.col('tailnum')) != 6, 'S')\n",
    "                                              .when(~F.col('tailnum').rlike('^N([0-9]{1,4})([A-Z]{1,2}$)'), 'F')\n",
    "                                              .when(~F.col('tailnum').rlike('^N.*'), 'FN')\n",
    "                                              .when(F.col('tailnum').rlike('^[IO0]') == True, 'FE')\n",
    "                                              )\n",
    "\n",
    "\n",
    "flights_qa.createOrReplaceTempView('flights_qa')\n",
    "\n",
    "spark.getOrCreate().sql(\"select count(qa_tailnum), qa_tailnum, tailnum from flights_qa where qa_tailnum = 'F' group by 2, 3\").show()"
   ]
  },
  {
   "cell_type": "markdown",
   "id": "b43682e6",
   "metadata": {},
   "source": [
    "# Pergunta 7"
   ]
  },
  {
   "cell_type": "code",
   "execution_count": 42,
   "id": "ff5797e1",
   "metadata": {},
   "outputs": [
    {
     "name": "stdout",
     "output_type": "stream",
     "text": [
      "+---------+----------------+\n",
      "|qa_flight|count(qa_flight)|\n",
      "+---------+----------------+\n",
      "|        F|            6158|\n",
      "+---------+----------------+\n",
      "\n"
     ]
    }
   ],
   "source": [
    "flights_qa = flights_qa.withColumn('qa_flight', F.when(F.col('flight').isNull(), 'M')\n",
    "                                                 .when(F.col('flight').rlike('^[0-9]{4}$')==False, 'F') \n",
    "                                  )\n",
    "\n",
    "flights_qa.createOrReplaceTempView('flights_qa')\n",
    "\n",
    "spark.getOrCreate().sql(\"select qa_flight, count(qa_flight) from flights_qa where qa_flight = 'F' group by 1\").show()"
   ]
  },
  {
   "cell_type": "markdown",
   "id": "354fbe0f",
   "metadata": {},
   "source": [
    "# Pergunta 8"
   ]
  },
  {
   "cell_type": "code",
   "execution_count": 43,
   "id": "24869a58",
   "metadata": {},
   "outputs": [
    {
     "name": "stdout",
     "output_type": "stream",
     "text": [
      "+--------------+---------------------+\n",
      "|qa_origin_dest|count(qa_origin_dest)|\n",
      "+--------------+---------------------+\n",
      "|          null|                    0|\n",
      "+--------------+---------------------+\n",
      "\n"
     ]
    }
   ],
   "source": [
    "flights_qa = flights_qa.withColumn('qa_origin_dest', F.when(F.col('origin').isNull(), 'MO')\n",
    "                                                      .when(F.col('dest').isNull(), 'MD')\n",
    "                                                      .when(F.col('origin').rlike('^[a-zA-Z0-9_]{3}$')==False, 'FO')\n",
    "                                                      .when(F.col('dest').rlike('^[a-zA-Z0-9_]{3}$')==False, 'FD')\n",
    "                                  )\n",
    "\n",
    "flights_qa.createOrReplaceTempView('flights_qa')\n",
    "\n",
    "spark.getOrCreate().sql(\"select qa_origin_dest, count(qa_origin_dest) from flights_qa group by 1\").show()"
   ]
  },
  {
   "cell_type": "markdown",
   "id": "99baa4e4",
   "metadata": {},
   "source": [
    "# Pergunta 9"
   ]
  },
  {
   "cell_type": "code",
   "execution_count": 44,
   "id": "9993dd19",
   "metadata": {},
   "outputs": [
    {
     "name": "stdout",
     "output_type": "stream",
     "text": [
      "+-----------+------------------+\n",
      "|qa_air_time|count(qa_air_time)|\n",
      "+-----------+------------------+\n",
      "|       null|                 0|\n",
      "|          M|                75|\n",
      "+-----------+------------------+\n",
      "\n"
     ]
    }
   ],
   "source": [
    "flights_qa = flights_qa.withColumn('qa_air_time', F.when(F.col('air_time').isNull(), 'M')\n",
    "                                                  .when(~F.col('air_time').between(20,500), 'I') \n",
    "                                 )\n",
    "\n",
    "\n",
    "flights_qa.createOrReplaceTempView('flights_qa')\n",
    "\n",
    "spark.getOrCreate().sql(\"select qa_air_time, count(qa_air_time) from flights_qa group by 1\").show()"
   ]
  },
  {
   "cell_type": "markdown",
   "id": "1efbcc8a",
   "metadata": {},
   "source": [
    "# Pergunta 10"
   ]
  },
  {
   "cell_type": "code",
   "execution_count": 45,
   "id": "222026b4",
   "metadata": {
    "scrolled": true
   },
   "outputs": [
    {
     "name": "stdout",
     "output_type": "stream",
     "text": [
      "+-----------+------------------+\n",
      "|qa_distance|count(qa_distance)|\n",
      "+-----------+------------------+\n",
      "|       null|                 0|\n",
      "+-----------+------------------+\n",
      "\n"
     ]
    }
   ],
   "source": [
    "flights_qa = flights_qa.withColumn('qa_distance', F.when(F.col('distance').isNull(), 'M')\n",
    "                                                   .when(~F.col('distance').between(50, 3000), 'I')\n",
    "                                  )\n",
    "\n",
    "flights_qa.createOrReplaceTempView('flights_qa')\n",
    "\n",
    "spark.getOrCreate().sql(\"select qa_distance, count(qa_distance) from flights_qa group by 1\").show()"
   ]
  },
  {
   "cell_type": "markdown",
   "id": "ceb32cd9",
   "metadata": {},
   "source": [
    "# Pergunta 11"
   ]
  },
  {
   "cell_type": "code",
   "execution_count": 46,
   "id": "8b823b9c",
   "metadata": {},
   "outputs": [
    {
     "name": "stdout",
     "output_type": "stream",
     "text": [
      "+-------------------+--------------------------+--------+--------+\n",
      "|qa_distance_airtime|count(qa_distance_airtime)|air_time|distance|\n",
      "+-------------------+--------------------------+--------+--------+\n",
      "|                 TL|                         7|     151|    1107|\n",
      "|                 TL|                        12|     197|    1660|\n",
      "|                 TL|                         1|     141|     867|\n",
      "|                 TL|                         1|     262|    2182|\n",
      "|                 TL|                        15|     180|    1448|\n",
      "|                 TL|                         1|     354|    2677|\n",
      "|                 TR|                         3|     121|     987|\n",
      "|                 TL|                         2|     302|    2402|\n",
      "|                 TL|                         4|     123|     909|\n",
      "|                 TL|                         1|     288|    2306|\n",
      "|                 TL|                         2|     129|     909|\n",
      "|                 TR|                         1|     137|    1119|\n",
      "|                 TL|                         2|     233|    1927|\n",
      "|                 TR|                         1|     113|     846|\n",
      "|                 TL|                         1|     227|    1542|\n",
      "|                  M|                         1|    null|    1660|\n",
      "|                 TR|                        10|      96|     671|\n",
      "|                 TR|                        14|     113|     867|\n",
      "|                 TR|                         4|     187|    1616|\n",
      "|                 TL|                         1|     227|    1751|\n",
      "+-------------------+--------------------------+--------+--------+\n",
      "only showing top 20 rows\n",
      "\n"
     ]
    }
   ],
   "source": [
    "flights_qa = flights_qa.withColumn('qa_distance_airtime', F.when(F.col('air_time').isNull(), 'M')\n",
    "                                                           .when(F.col('air_time') >= (F.col('distance')*0.1 + 30) , 'TL')\n",
    "                                                           .when(F.col('air_time') <= (F.col('distance')*0.1 + 10) , 'TS')\n",
    "                                                           .when(~(F.col('air_time') >= (F.col('distance') * 0.1 + 30)) & ~(F.col('air_time') <= (F.col('distance') * 0.1 + 10)), 'TR')\n",
    "                                )\n",
    "\n",
    "\n",
    "flights_qa.createOrReplaceTempView('flights_qa')\n",
    "\n",
    "spark.getOrCreate().sql(\"select qa_distance_airtime, count(qa_distance_airtime), air_time, distance from flights_qa group by 1 , 3, 4\").show()"
   ]
  },
  {
   "cell_type": "markdown",
   "id": "9a55f80e",
   "metadata": {},
   "source": [
    "# Gravando arquivos"
   ]
  },
  {
   "cell_type": "markdown",
   "id": "2a33b24d",
   "metadata": {},
   "source": [
    "airports_qa.write.parquet(\"C:/Users/tsaheki/Documents/Treinamento PySpark - Relatorios/airports_qa.parquet\")\n",
    "\n",
    "\n",
    "#SALVANDO ARQUIVO PARQUET\n",
    "(df_airports.repartition(1) # coalesce\n",
    "            .write.format(\"parquet\")\n",
    "            .mode('overwrite')\n",
    "            .option(\"header\", \"true\")\n",
    "            .save(\"C:/Users/tsaheki/Documents/Treinamento PySpark - Relatorios/airports_qa.parquet\"))\n",
    "            \n",
    "\n",
    "SALVANDO ARQUIVO CSV\n",
    "(df_airports.select(df_airports.colRegex(\"`^qa_.*`\"))\n",
    "            .repartition(1) # coalesce\n",
    "            .write.format(\"CSV\")\n",
    "            .mode('overwrite')\n",
    "            .option(\"header\", \"true\")\n",
    "            .save('C:/Users/tsaheki/Documents/Treinamento PySpark - Relatorios/airports_qa.parquet'))\n",
    "            \n",
    "Salvando em parquet\n",
    "(df_flights.repartition(1)\n",
    "           .write.format('parquet')\n",
    "           .mode('overwrite')\n",
    "           .option('header', 'true')\n",
    "           .save('C:/Users/tsaheki/Documents/Treinamento PySpark - Relatorios/airports_qa.parquet'))\n",
    "           \n",
    "airports.write.parquet(\n",
    "    mode ='overwrite',\n",
    "    path = 'C:/Practice_Pyspark/airports_semana_3/parquet')\n",
    "    \n",
    "airports_parquet = spark.read.parquet('C:/Practice_Pyspark/airports_semana_3/parquet')"
   ]
  }
 ],
 "metadata": {
  "kernelspec": {
   "display_name": "Python 3 (ipykernel)",
   "language": "python",
   "name": "python3"
  },
  "language_info": {
   "codemirror_mode": {
    "name": "ipython",
    "version": 3
   },
   "file_extension": ".py",
   "mimetype": "text/x-python",
   "name": "python",
   "nbconvert_exporter": "python",
   "pygments_lexer": "ipython3",
   "version": "3.9.7"
  }
 },
 "nbformat": 4,
 "nbformat_minor": 5
}
